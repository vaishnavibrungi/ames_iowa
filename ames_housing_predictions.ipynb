{
 "cells": [
  {
   "cell_type": "markdown",
   "id": "7f633dce",
   "metadata": {},
   "source": [
    "# Project 2 - Ames Housing Data and Kaggle Challenge"
   ]
  },
  {
   "cell_type": "code",
   "execution_count": 1,
   "id": "b4d62e01",
   "metadata": {},
   "outputs": [],
   "source": [
    "#Imports libraries\n",
    "import numpy as np\n",
    "import pandas as pd\n",
    "import matplotlib.pyplot as plt\n",
    "import seaborn as sns\n",
    "\n",
    "from sklearn.linear_model import Ridge, Lasso, ElasticNet, LinearRegression, RidgeCV, LassoCV, ElasticNetCV\n",
    "from sklearn.model_selection import cross_val_score, train_test_split\n",
    "from sklearn.preprocessing import StandardScaler, PolynomialFeatures\n",
    "import statsmodels.api as sm\n",
    "from sklearn.metrics import r2_score, mean_squared_error"
   ]
  },
  {
   "cell_type": "markdown",
   "id": "4d235e7f",
   "metadata": {},
   "source": [
    "## Data Import and Cleaning"
   ]
  },
  {
   "cell_type": "markdown",
   "id": "53ed76f1",
   "metadata": {},
   "source": [
    "### Read in train and test Data"
   ]
  },
  {
   "cell_type": "code",
   "execution_count": 2,
   "id": "bde90dec",
   "metadata": {},
   "outputs": [],
   "source": [
    "train_data = pd.read_csv('./datasets/train.csv', keep_default_na=False, na_values=[''])\n",
    "test_data = pd.read_csv('./datasets/test.csv', keep_default_na=False, na_values=[''])"
   ]
  },
  {
   "cell_type": "markdown",
   "id": "739e1461",
   "metadata": {},
   "source": [
    "### Display first five rows of the two datasets"
   ]
  },
  {
   "cell_type": "code",
   "execution_count": 3,
   "id": "b4e7ce8e",
   "metadata": {
    "scrolled": true
   },
   "outputs": [
    {
     "data": {
      "text/html": [
       "<div>\n",
       "<style scoped>\n",
       "    .dataframe tbody tr th:only-of-type {\n",
       "        vertical-align: middle;\n",
       "    }\n",
       "\n",
       "    .dataframe tbody tr th {\n",
       "        vertical-align: top;\n",
       "    }\n",
       "\n",
       "    .dataframe thead th {\n",
       "        text-align: right;\n",
       "    }\n",
       "</style>\n",
       "<table border=\"1\" class=\"dataframe\">\n",
       "  <thead>\n",
       "    <tr style=\"text-align: right;\">\n",
       "      <th></th>\n",
       "      <th>Id</th>\n",
       "      <th>PID</th>\n",
       "      <th>MS SubClass</th>\n",
       "      <th>MS Zoning</th>\n",
       "      <th>Lot Frontage</th>\n",
       "      <th>Lot Area</th>\n",
       "      <th>Street</th>\n",
       "      <th>Alley</th>\n",
       "      <th>Lot Shape</th>\n",
       "      <th>Land Contour</th>\n",
       "      <th>...</th>\n",
       "      <th>Screen Porch</th>\n",
       "      <th>Pool Area</th>\n",
       "      <th>Pool QC</th>\n",
       "      <th>Fence</th>\n",
       "      <th>Misc Feature</th>\n",
       "      <th>Misc Val</th>\n",
       "      <th>Mo Sold</th>\n",
       "      <th>Yr Sold</th>\n",
       "      <th>Sale Type</th>\n",
       "      <th>SalePrice</th>\n",
       "    </tr>\n",
       "  </thead>\n",
       "  <tbody>\n",
       "    <tr>\n",
       "      <th>0</th>\n",
       "      <td>109</td>\n",
       "      <td>533352170</td>\n",
       "      <td>60</td>\n",
       "      <td>RL</td>\n",
       "      <td>NaN</td>\n",
       "      <td>13517</td>\n",
       "      <td>Pave</td>\n",
       "      <td>NA</td>\n",
       "      <td>IR1</td>\n",
       "      <td>Lvl</td>\n",
       "      <td>...</td>\n",
       "      <td>0</td>\n",
       "      <td>0</td>\n",
       "      <td>NA</td>\n",
       "      <td>NA</td>\n",
       "      <td>NA</td>\n",
       "      <td>0</td>\n",
       "      <td>3</td>\n",
       "      <td>2010</td>\n",
       "      <td>WD</td>\n",
       "      <td>130500</td>\n",
       "    </tr>\n",
       "    <tr>\n",
       "      <th>1</th>\n",
       "      <td>544</td>\n",
       "      <td>531379050</td>\n",
       "      <td>60</td>\n",
       "      <td>RL</td>\n",
       "      <td>43.0</td>\n",
       "      <td>11492</td>\n",
       "      <td>Pave</td>\n",
       "      <td>NA</td>\n",
       "      <td>IR1</td>\n",
       "      <td>Lvl</td>\n",
       "      <td>...</td>\n",
       "      <td>0</td>\n",
       "      <td>0</td>\n",
       "      <td>NA</td>\n",
       "      <td>NA</td>\n",
       "      <td>NA</td>\n",
       "      <td>0</td>\n",
       "      <td>4</td>\n",
       "      <td>2009</td>\n",
       "      <td>WD</td>\n",
       "      <td>220000</td>\n",
       "    </tr>\n",
       "    <tr>\n",
       "      <th>2</th>\n",
       "      <td>153</td>\n",
       "      <td>535304180</td>\n",
       "      <td>20</td>\n",
       "      <td>RL</td>\n",
       "      <td>68.0</td>\n",
       "      <td>7922</td>\n",
       "      <td>Pave</td>\n",
       "      <td>NA</td>\n",
       "      <td>Reg</td>\n",
       "      <td>Lvl</td>\n",
       "      <td>...</td>\n",
       "      <td>0</td>\n",
       "      <td>0</td>\n",
       "      <td>NA</td>\n",
       "      <td>NA</td>\n",
       "      <td>NA</td>\n",
       "      <td>0</td>\n",
       "      <td>1</td>\n",
       "      <td>2010</td>\n",
       "      <td>WD</td>\n",
       "      <td>109000</td>\n",
       "    </tr>\n",
       "    <tr>\n",
       "      <th>3</th>\n",
       "      <td>318</td>\n",
       "      <td>916386060</td>\n",
       "      <td>60</td>\n",
       "      <td>RL</td>\n",
       "      <td>73.0</td>\n",
       "      <td>9802</td>\n",
       "      <td>Pave</td>\n",
       "      <td>NA</td>\n",
       "      <td>Reg</td>\n",
       "      <td>Lvl</td>\n",
       "      <td>...</td>\n",
       "      <td>0</td>\n",
       "      <td>0</td>\n",
       "      <td>NA</td>\n",
       "      <td>NA</td>\n",
       "      <td>NA</td>\n",
       "      <td>0</td>\n",
       "      <td>4</td>\n",
       "      <td>2010</td>\n",
       "      <td>WD</td>\n",
       "      <td>174000</td>\n",
       "    </tr>\n",
       "    <tr>\n",
       "      <th>4</th>\n",
       "      <td>255</td>\n",
       "      <td>906425045</td>\n",
       "      <td>50</td>\n",
       "      <td>RL</td>\n",
       "      <td>82.0</td>\n",
       "      <td>14235</td>\n",
       "      <td>Pave</td>\n",
       "      <td>NA</td>\n",
       "      <td>IR1</td>\n",
       "      <td>Lvl</td>\n",
       "      <td>...</td>\n",
       "      <td>0</td>\n",
       "      <td>0</td>\n",
       "      <td>NA</td>\n",
       "      <td>NA</td>\n",
       "      <td>NA</td>\n",
       "      <td>0</td>\n",
       "      <td>3</td>\n",
       "      <td>2010</td>\n",
       "      <td>WD</td>\n",
       "      <td>138500</td>\n",
       "    </tr>\n",
       "  </tbody>\n",
       "</table>\n",
       "<p>5 rows × 81 columns</p>\n",
       "</div>"
      ],
      "text/plain": [
       "    Id        PID  MS SubClass MS Zoning  Lot Frontage  Lot Area Street Alley  \\\n",
       "0  109  533352170           60        RL           NaN     13517   Pave    NA   \n",
       "1  544  531379050           60        RL          43.0     11492   Pave    NA   \n",
       "2  153  535304180           20        RL          68.0      7922   Pave    NA   \n",
       "3  318  916386060           60        RL          73.0      9802   Pave    NA   \n",
       "4  255  906425045           50        RL          82.0     14235   Pave    NA   \n",
       "\n",
       "  Lot Shape Land Contour  ... Screen Porch Pool Area Pool QC Fence  \\\n",
       "0       IR1          Lvl  ...            0         0      NA    NA   \n",
       "1       IR1          Lvl  ...            0         0      NA    NA   \n",
       "2       Reg          Lvl  ...            0         0      NA    NA   \n",
       "3       Reg          Lvl  ...            0         0      NA    NA   \n",
       "4       IR1          Lvl  ...            0         0      NA    NA   \n",
       "\n",
       "  Misc Feature Misc Val Mo Sold Yr Sold  Sale Type  SalePrice  \n",
       "0           NA        0       3    2010        WD      130500  \n",
       "1           NA        0       4    2009        WD      220000  \n",
       "2           NA        0       1    2010        WD      109000  \n",
       "3           NA        0       4    2010        WD      174000  \n",
       "4           NA        0       3    2010        WD      138500  \n",
       "\n",
       "[5 rows x 81 columns]"
      ]
     },
     "execution_count": 3,
     "metadata": {},
     "output_type": "execute_result"
    }
   ],
   "source": [
    "train_data.head(5)"
   ]
  },
  {
   "cell_type": "code",
   "execution_count": 4,
   "id": "b633dddb",
   "metadata": {
    "scrolled": true
   },
   "outputs": [
    {
     "data": {
      "text/html": [
       "<div>\n",
       "<style scoped>\n",
       "    .dataframe tbody tr th:only-of-type {\n",
       "        vertical-align: middle;\n",
       "    }\n",
       "\n",
       "    .dataframe tbody tr th {\n",
       "        vertical-align: top;\n",
       "    }\n",
       "\n",
       "    .dataframe thead th {\n",
       "        text-align: right;\n",
       "    }\n",
       "</style>\n",
       "<table border=\"1\" class=\"dataframe\">\n",
       "  <thead>\n",
       "    <tr style=\"text-align: right;\">\n",
       "      <th></th>\n",
       "      <th>Id</th>\n",
       "      <th>PID</th>\n",
       "      <th>MS SubClass</th>\n",
       "      <th>MS Zoning</th>\n",
       "      <th>Lot Frontage</th>\n",
       "      <th>Lot Area</th>\n",
       "      <th>Street</th>\n",
       "      <th>Alley</th>\n",
       "      <th>Lot Shape</th>\n",
       "      <th>Land Contour</th>\n",
       "      <th>...</th>\n",
       "      <th>3Ssn Porch</th>\n",
       "      <th>Screen Porch</th>\n",
       "      <th>Pool Area</th>\n",
       "      <th>Pool QC</th>\n",
       "      <th>Fence</th>\n",
       "      <th>Misc Feature</th>\n",
       "      <th>Misc Val</th>\n",
       "      <th>Mo Sold</th>\n",
       "      <th>Yr Sold</th>\n",
       "      <th>Sale Type</th>\n",
       "    </tr>\n",
       "  </thead>\n",
       "  <tbody>\n",
       "    <tr>\n",
       "      <th>0</th>\n",
       "      <td>2658</td>\n",
       "      <td>902301120</td>\n",
       "      <td>190</td>\n",
       "      <td>RM</td>\n",
       "      <td>69.0</td>\n",
       "      <td>9142</td>\n",
       "      <td>Pave</td>\n",
       "      <td>Grvl</td>\n",
       "      <td>Reg</td>\n",
       "      <td>Lvl</td>\n",
       "      <td>...</td>\n",
       "      <td>0</td>\n",
       "      <td>0</td>\n",
       "      <td>0</td>\n",
       "      <td>NA</td>\n",
       "      <td>NA</td>\n",
       "      <td>NA</td>\n",
       "      <td>0</td>\n",
       "      <td>4</td>\n",
       "      <td>2006</td>\n",
       "      <td>WD</td>\n",
       "    </tr>\n",
       "    <tr>\n",
       "      <th>1</th>\n",
       "      <td>2718</td>\n",
       "      <td>905108090</td>\n",
       "      <td>90</td>\n",
       "      <td>RL</td>\n",
       "      <td>NaN</td>\n",
       "      <td>9662</td>\n",
       "      <td>Pave</td>\n",
       "      <td>NA</td>\n",
       "      <td>IR1</td>\n",
       "      <td>Lvl</td>\n",
       "      <td>...</td>\n",
       "      <td>0</td>\n",
       "      <td>0</td>\n",
       "      <td>0</td>\n",
       "      <td>NA</td>\n",
       "      <td>NA</td>\n",
       "      <td>NA</td>\n",
       "      <td>0</td>\n",
       "      <td>8</td>\n",
       "      <td>2006</td>\n",
       "      <td>WD</td>\n",
       "    </tr>\n",
       "    <tr>\n",
       "      <th>2</th>\n",
       "      <td>2414</td>\n",
       "      <td>528218130</td>\n",
       "      <td>60</td>\n",
       "      <td>RL</td>\n",
       "      <td>58.0</td>\n",
       "      <td>17104</td>\n",
       "      <td>Pave</td>\n",
       "      <td>NA</td>\n",
       "      <td>IR1</td>\n",
       "      <td>Lvl</td>\n",
       "      <td>...</td>\n",
       "      <td>0</td>\n",
       "      <td>0</td>\n",
       "      <td>0</td>\n",
       "      <td>NA</td>\n",
       "      <td>NA</td>\n",
       "      <td>NA</td>\n",
       "      <td>0</td>\n",
       "      <td>9</td>\n",
       "      <td>2006</td>\n",
       "      <td>New</td>\n",
       "    </tr>\n",
       "    <tr>\n",
       "      <th>3</th>\n",
       "      <td>1989</td>\n",
       "      <td>902207150</td>\n",
       "      <td>30</td>\n",
       "      <td>RM</td>\n",
       "      <td>60.0</td>\n",
       "      <td>8520</td>\n",
       "      <td>Pave</td>\n",
       "      <td>NA</td>\n",
       "      <td>Reg</td>\n",
       "      <td>Lvl</td>\n",
       "      <td>...</td>\n",
       "      <td>0</td>\n",
       "      <td>0</td>\n",
       "      <td>0</td>\n",
       "      <td>NA</td>\n",
       "      <td>NA</td>\n",
       "      <td>NA</td>\n",
       "      <td>0</td>\n",
       "      <td>7</td>\n",
       "      <td>2007</td>\n",
       "      <td>WD</td>\n",
       "    </tr>\n",
       "    <tr>\n",
       "      <th>4</th>\n",
       "      <td>625</td>\n",
       "      <td>535105100</td>\n",
       "      <td>20</td>\n",
       "      <td>RL</td>\n",
       "      <td>NaN</td>\n",
       "      <td>9500</td>\n",
       "      <td>Pave</td>\n",
       "      <td>NA</td>\n",
       "      <td>IR1</td>\n",
       "      <td>Lvl</td>\n",
       "      <td>...</td>\n",
       "      <td>0</td>\n",
       "      <td>185</td>\n",
       "      <td>0</td>\n",
       "      <td>NA</td>\n",
       "      <td>NA</td>\n",
       "      <td>NA</td>\n",
       "      <td>0</td>\n",
       "      <td>7</td>\n",
       "      <td>2009</td>\n",
       "      <td>WD</td>\n",
       "    </tr>\n",
       "  </tbody>\n",
       "</table>\n",
       "<p>5 rows × 80 columns</p>\n",
       "</div>"
      ],
      "text/plain": [
       "     Id        PID  MS SubClass MS Zoning  Lot Frontage  Lot Area Street  \\\n",
       "0  2658  902301120          190        RM          69.0      9142   Pave   \n",
       "1  2718  905108090           90        RL           NaN      9662   Pave   \n",
       "2  2414  528218130           60        RL          58.0     17104   Pave   \n",
       "3  1989  902207150           30        RM          60.0      8520   Pave   \n",
       "4   625  535105100           20        RL           NaN      9500   Pave   \n",
       "\n",
       "  Alley Lot Shape Land Contour  ... 3Ssn Porch Screen Porch Pool Area Pool QC  \\\n",
       "0  Grvl       Reg          Lvl  ...          0            0         0      NA   \n",
       "1    NA       IR1          Lvl  ...          0            0         0      NA   \n",
       "2    NA       IR1          Lvl  ...          0            0         0      NA   \n",
       "3    NA       Reg          Lvl  ...          0            0         0      NA   \n",
       "4    NA       IR1          Lvl  ...          0          185         0      NA   \n",
       "\n",
       "  Fence Misc Feature Misc Val Mo Sold  Yr Sold  Sale Type  \n",
       "0    NA           NA        0       4     2006        WD   \n",
       "1    NA           NA        0       8     2006        WD   \n",
       "2    NA           NA        0       9     2006        New  \n",
       "3    NA           NA        0       7     2007        WD   \n",
       "4    NA           NA        0       7     2009        WD   \n",
       "\n",
       "[5 rows x 80 columns]"
      ]
     },
     "execution_count": 4,
     "metadata": {},
     "output_type": "execute_result"
    }
   ],
   "source": [
    "test_data.head(5)"
   ]
  },
  {
   "cell_type": "code",
   "execution_count": 5,
   "id": "a1586e50",
   "metadata": {},
   "outputs": [
    {
     "data": {
      "text/plain": [
       "Id                   int64\n",
       "PID                  int64\n",
       "MS SubClass          int64\n",
       "MS Zoning           object\n",
       "Lot Frontage       float64\n",
       "Lot Area             int64\n",
       "Street              object\n",
       "Alley               object\n",
       "Lot Shape           object\n",
       "Land Contour        object\n",
       "Utilities           object\n",
       "Lot Config          object\n",
       "Land Slope          object\n",
       "Neighborhood        object\n",
       "Condition 1         object\n",
       "Condition 2         object\n",
       "Bldg Type           object\n",
       "House Style         object\n",
       "Overall Qual         int64\n",
       "Overall Cond         int64\n",
       "Year Built           int64\n",
       "Year Remod/Add       int64\n",
       "Roof Style          object\n",
       "Roof Matl           object\n",
       "Exterior 1st        object\n",
       "Exterior 2nd        object\n",
       "Mas Vnr Type        object\n",
       "Mas Vnr Area       float64\n",
       "Exter Qual          object\n",
       "Exter Cond          object\n",
       "Foundation          object\n",
       "Bsmt Qual           object\n",
       "Bsmt Cond           object\n",
       "Bsmt Exposure       object\n",
       "BsmtFin Type 1      object\n",
       "BsmtFin SF 1       float64\n",
       "BsmtFin Type 2      object\n",
       "BsmtFin SF 2       float64\n",
       "Bsmt Unf SF        float64\n",
       "Total Bsmt SF      float64\n",
       "Heating             object\n",
       "Heating QC          object\n",
       "Central Air         object\n",
       "Electrical          object\n",
       "1st Flr SF           int64\n",
       "2nd Flr SF           int64\n",
       "Low Qual Fin SF      int64\n",
       "Gr Liv Area          int64\n",
       "Bsmt Full Bath     float64\n",
       "Bsmt Half Bath     float64\n",
       "Full Bath            int64\n",
       "Half Bath            int64\n",
       "Bedroom AbvGr        int64\n",
       "Kitchen AbvGr        int64\n",
       "Kitchen Qual        object\n",
       "dtype: object"
      ]
     },
     "execution_count": 5,
     "metadata": {},
     "output_type": "execute_result"
    }
   ],
   "source": [
    "train_data.dtypes[:55]"
   ]
  },
  {
   "cell_type": "markdown",
   "id": "ca31e073",
   "metadata": {},
   "source": [
    "### Get the shapes of train and test data"
   ]
  },
  {
   "cell_type": "code",
   "execution_count": 6,
   "id": "68b2a280",
   "metadata": {},
   "outputs": [
    {
     "name": "stdout",
     "output_type": "stream",
     "text": [
      "(2051, 81)\n",
      "(878, 80)\n"
     ]
    }
   ],
   "source": [
    "print(train_data.shape)\n",
    "print(test_data.shape)"
   ]
  },
  {
   "cell_type": "markdown",
   "id": "bbde3cd0",
   "metadata": {},
   "source": [
    "### Check for missing values"
   ]
  },
  {
   "cell_type": "code",
   "execution_count": 7,
   "id": "fd201210",
   "metadata": {
    "scrolled": false
   },
   "outputs": [
    {
     "data": {
      "text/plain": [
       "Lot Frontage      330\n",
       "Garage Yr Blt     114\n",
       "Mas Vnr Type       22\n",
       "Mas Vnr Area       22\n",
       "Bsmt Exposure       4\n",
       "BsmtFin Type 2      2\n",
       "Bsmt Full Bath      2\n",
       "Bsmt Half Bath      2\n",
       "Garage Cond         1\n",
       "Bsmt Qual           1\n",
       "Garage Finish       1\n",
       "Garage Cars         1\n",
       "Garage Area         1\n",
       "Garage Qual         1\n",
       "Total Bsmt SF       1\n",
       "BsmtFin Type 1      1\n",
       "Bsmt Cond           1\n",
       "BsmtFin SF 1        1\n",
       "BsmtFin SF 2        1\n",
       "Bsmt Unf SF         1\n",
       "Full Bath           0\n",
       "Half Bath           0\n",
       "Bedroom AbvGr       0\n",
       "Kitchen Qual        0\n",
       "TotRms AbvGrd       0\n",
       "Functional          0\n",
       "dtype: int64"
      ]
     },
     "execution_count": 7,
     "metadata": {},
     "output_type": "execute_result"
    }
   ],
   "source": [
    "train_data.isnull().sum().sort_values(ascending=False)[:26]"
   ]
  },
  {
   "cell_type": "code",
   "execution_count": 8,
   "id": "283b5c91",
   "metadata": {},
   "outputs": [
    {
     "data": {
      "text/plain": [
       "Lot Frontage      160\n",
       "Garage Yr Blt      45\n",
       "Garage Finish       1\n",
       "Mas Vnr Area        1\n",
       "Mas Vnr Type        1\n",
       "Electrical          1\n",
       "Misc Feature        0\n",
       "Half Bath           0\n",
       "Mo Sold             0\n",
       "Yr Sold             0\n",
       "TotRms AbvGrd       0\n",
       "Kitchen Qual        0\n",
       "Kitchen AbvGr       0\n",
       "Bedroom AbvGr       0\n",
       "Full Bath           0\n",
       "Fireplaces          0\n",
       "Bsmt Half Bath      0\n",
       "Bsmt Full Bath      0\n",
       "Gr Liv Area         0\n",
       "dtype: int64"
      ]
     },
     "execution_count": 8,
     "metadata": {},
     "output_type": "execute_result"
    }
   ],
   "source": [
    "test_data.isnull().sum().sort_values(ascending=False)[:19]"
   ]
  },
  {
   "cell_type": "code",
   "execution_count": 9,
   "id": "773aafa0",
   "metadata": {},
   "outputs": [],
   "source": [
    "# fix column names by replacing spaces with underscores and converting them to lower case\n",
    "train_data.columns = train_data.columns.str.replace(' ', '_')\n",
    "train_data.columns = train_data.columns.str.lower()"
   ]
  },
  {
   "cell_type": "code",
   "execution_count": 10,
   "id": "123ae162",
   "metadata": {},
   "outputs": [],
   "source": [
    "test_data.columns = test_data.columns.str.replace(' ', '_')\n",
    "test_data.columns = test_data.columns.str.lower()"
   ]
  },
  {
   "cell_type": "code",
   "execution_count": 11,
   "id": "483dd89c",
   "metadata": {
    "scrolled": true
   },
   "outputs": [
    {
     "data": {
      "text/html": [
       "<div>\n",
       "<style scoped>\n",
       "    .dataframe tbody tr th:only-of-type {\n",
       "        vertical-align: middle;\n",
       "    }\n",
       "\n",
       "    .dataframe tbody tr th {\n",
       "        vertical-align: top;\n",
       "    }\n",
       "\n",
       "    .dataframe thead th {\n",
       "        text-align: right;\n",
       "    }\n",
       "</style>\n",
       "<table border=\"1\" class=\"dataframe\">\n",
       "  <thead>\n",
       "    <tr style=\"text-align: right;\">\n",
       "      <th></th>\n",
       "      <th>id</th>\n",
       "      <th>pid</th>\n",
       "      <th>ms_subclass</th>\n",
       "      <th>ms_zoning</th>\n",
       "      <th>lot_frontage</th>\n",
       "      <th>lot_area</th>\n",
       "      <th>street</th>\n",
       "      <th>alley</th>\n",
       "      <th>lot_shape</th>\n",
       "      <th>land_contour</th>\n",
       "      <th>...</th>\n",
       "      <th>screen_porch</th>\n",
       "      <th>pool_area</th>\n",
       "      <th>pool_qc</th>\n",
       "      <th>fence</th>\n",
       "      <th>misc_feature</th>\n",
       "      <th>misc_val</th>\n",
       "      <th>mo_sold</th>\n",
       "      <th>yr_sold</th>\n",
       "      <th>sale_type</th>\n",
       "      <th>saleprice</th>\n",
       "    </tr>\n",
       "  </thead>\n",
       "  <tbody>\n",
       "    <tr>\n",
       "      <th>0</th>\n",
       "      <td>109</td>\n",
       "      <td>533352170</td>\n",
       "      <td>60</td>\n",
       "      <td>RL</td>\n",
       "      <td>NaN</td>\n",
       "      <td>13517</td>\n",
       "      <td>Pave</td>\n",
       "      <td>NA</td>\n",
       "      <td>IR1</td>\n",
       "      <td>Lvl</td>\n",
       "      <td>...</td>\n",
       "      <td>0</td>\n",
       "      <td>0</td>\n",
       "      <td>NA</td>\n",
       "      <td>NA</td>\n",
       "      <td>NA</td>\n",
       "      <td>0</td>\n",
       "      <td>3</td>\n",
       "      <td>2010</td>\n",
       "      <td>WD</td>\n",
       "      <td>130500</td>\n",
       "    </tr>\n",
       "    <tr>\n",
       "      <th>1</th>\n",
       "      <td>544</td>\n",
       "      <td>531379050</td>\n",
       "      <td>60</td>\n",
       "      <td>RL</td>\n",
       "      <td>43.0</td>\n",
       "      <td>11492</td>\n",
       "      <td>Pave</td>\n",
       "      <td>NA</td>\n",
       "      <td>IR1</td>\n",
       "      <td>Lvl</td>\n",
       "      <td>...</td>\n",
       "      <td>0</td>\n",
       "      <td>0</td>\n",
       "      <td>NA</td>\n",
       "      <td>NA</td>\n",
       "      <td>NA</td>\n",
       "      <td>0</td>\n",
       "      <td>4</td>\n",
       "      <td>2009</td>\n",
       "      <td>WD</td>\n",
       "      <td>220000</td>\n",
       "    </tr>\n",
       "    <tr>\n",
       "      <th>2</th>\n",
       "      <td>153</td>\n",
       "      <td>535304180</td>\n",
       "      <td>20</td>\n",
       "      <td>RL</td>\n",
       "      <td>68.0</td>\n",
       "      <td>7922</td>\n",
       "      <td>Pave</td>\n",
       "      <td>NA</td>\n",
       "      <td>Reg</td>\n",
       "      <td>Lvl</td>\n",
       "      <td>...</td>\n",
       "      <td>0</td>\n",
       "      <td>0</td>\n",
       "      <td>NA</td>\n",
       "      <td>NA</td>\n",
       "      <td>NA</td>\n",
       "      <td>0</td>\n",
       "      <td>1</td>\n",
       "      <td>2010</td>\n",
       "      <td>WD</td>\n",
       "      <td>109000</td>\n",
       "    </tr>\n",
       "  </tbody>\n",
       "</table>\n",
       "<p>3 rows × 81 columns</p>\n",
       "</div>"
      ],
      "text/plain": [
       "    id        pid  ms_subclass ms_zoning  lot_frontage  lot_area street alley  \\\n",
       "0  109  533352170           60        RL           NaN     13517   Pave    NA   \n",
       "1  544  531379050           60        RL          43.0     11492   Pave    NA   \n",
       "2  153  535304180           20        RL          68.0      7922   Pave    NA   \n",
       "\n",
       "  lot_shape land_contour  ... screen_porch pool_area pool_qc fence  \\\n",
       "0       IR1          Lvl  ...            0         0      NA    NA   \n",
       "1       IR1          Lvl  ...            0         0      NA    NA   \n",
       "2       Reg          Lvl  ...            0         0      NA    NA   \n",
       "\n",
       "  misc_feature misc_val mo_sold yr_sold  sale_type  saleprice  \n",
       "0           NA        0       3    2010        WD      130500  \n",
       "1           NA        0       4    2009        WD      220000  \n",
       "2           NA        0       1    2010        WD      109000  \n",
       "\n",
       "[3 rows x 81 columns]"
      ]
     },
     "execution_count": 11,
     "metadata": {},
     "output_type": "execute_result"
    }
   ],
   "source": [
    "categorical_columns=['pool_qc', 'misc_feature', 'alley', 'fence', 'fireplace_qu', 'garage_finish', 'garage_cond', \n",
    "              'garage_qual', 'garage_type', 'bsmt_exposure', 'bsmtfin_type_2', 'bsmtfin_type_1', 'bsmt_cond', \n",
    "              'bsmt_qual', 'mas_vnr_type'] \n",
    "[train_data[col].replace(np.nan,'NA',inplace=True) for col in categorical_columns]\n",
    "train_data.head(3)"
   ]
  },
  {
   "cell_type": "code",
   "execution_count": 12,
   "id": "12bf0a8e",
   "metadata": {},
   "outputs": [
    {
     "data": {
      "text/html": [
       "<div>\n",
       "<style scoped>\n",
       "    .dataframe tbody tr th:only-of-type {\n",
       "        vertical-align: middle;\n",
       "    }\n",
       "\n",
       "    .dataframe tbody tr th {\n",
       "        vertical-align: top;\n",
       "    }\n",
       "\n",
       "    .dataframe thead th {\n",
       "        text-align: right;\n",
       "    }\n",
       "</style>\n",
       "<table border=\"1\" class=\"dataframe\">\n",
       "  <thead>\n",
       "    <tr style=\"text-align: right;\">\n",
       "      <th></th>\n",
       "      <th>id</th>\n",
       "      <th>pid</th>\n",
       "      <th>ms_subclass</th>\n",
       "      <th>ms_zoning</th>\n",
       "      <th>lot_frontage</th>\n",
       "      <th>lot_area</th>\n",
       "      <th>street</th>\n",
       "      <th>alley</th>\n",
       "      <th>lot_shape</th>\n",
       "      <th>land_contour</th>\n",
       "      <th>...</th>\n",
       "      <th>3ssn_porch</th>\n",
       "      <th>screen_porch</th>\n",
       "      <th>pool_area</th>\n",
       "      <th>pool_qc</th>\n",
       "      <th>fence</th>\n",
       "      <th>misc_feature</th>\n",
       "      <th>misc_val</th>\n",
       "      <th>mo_sold</th>\n",
       "      <th>yr_sold</th>\n",
       "      <th>sale_type</th>\n",
       "    </tr>\n",
       "  </thead>\n",
       "  <tbody>\n",
       "    <tr>\n",
       "      <th>0</th>\n",
       "      <td>2658</td>\n",
       "      <td>902301120</td>\n",
       "      <td>190</td>\n",
       "      <td>RM</td>\n",
       "      <td>69.0</td>\n",
       "      <td>9142</td>\n",
       "      <td>Pave</td>\n",
       "      <td>Grvl</td>\n",
       "      <td>Reg</td>\n",
       "      <td>Lvl</td>\n",
       "      <td>...</td>\n",
       "      <td>0</td>\n",
       "      <td>0</td>\n",
       "      <td>0</td>\n",
       "      <td>NA</td>\n",
       "      <td>NA</td>\n",
       "      <td>NA</td>\n",
       "      <td>0</td>\n",
       "      <td>4</td>\n",
       "      <td>2006</td>\n",
       "      <td>WD</td>\n",
       "    </tr>\n",
       "    <tr>\n",
       "      <th>1</th>\n",
       "      <td>2718</td>\n",
       "      <td>905108090</td>\n",
       "      <td>90</td>\n",
       "      <td>RL</td>\n",
       "      <td>NaN</td>\n",
       "      <td>9662</td>\n",
       "      <td>Pave</td>\n",
       "      <td>NA</td>\n",
       "      <td>IR1</td>\n",
       "      <td>Lvl</td>\n",
       "      <td>...</td>\n",
       "      <td>0</td>\n",
       "      <td>0</td>\n",
       "      <td>0</td>\n",
       "      <td>NA</td>\n",
       "      <td>NA</td>\n",
       "      <td>NA</td>\n",
       "      <td>0</td>\n",
       "      <td>8</td>\n",
       "      <td>2006</td>\n",
       "      <td>WD</td>\n",
       "    </tr>\n",
       "    <tr>\n",
       "      <th>2</th>\n",
       "      <td>2414</td>\n",
       "      <td>528218130</td>\n",
       "      <td>60</td>\n",
       "      <td>RL</td>\n",
       "      <td>58.0</td>\n",
       "      <td>17104</td>\n",
       "      <td>Pave</td>\n",
       "      <td>NA</td>\n",
       "      <td>IR1</td>\n",
       "      <td>Lvl</td>\n",
       "      <td>...</td>\n",
       "      <td>0</td>\n",
       "      <td>0</td>\n",
       "      <td>0</td>\n",
       "      <td>NA</td>\n",
       "      <td>NA</td>\n",
       "      <td>NA</td>\n",
       "      <td>0</td>\n",
       "      <td>9</td>\n",
       "      <td>2006</td>\n",
       "      <td>New</td>\n",
       "    </tr>\n",
       "  </tbody>\n",
       "</table>\n",
       "<p>3 rows × 80 columns</p>\n",
       "</div>"
      ],
      "text/plain": [
       "     id        pid  ms_subclass ms_zoning  lot_frontage  lot_area street  \\\n",
       "0  2658  902301120          190        RM          69.0      9142   Pave   \n",
       "1  2718  905108090           90        RL           NaN      9662   Pave   \n",
       "2  2414  528218130           60        RL          58.0     17104   Pave   \n",
       "\n",
       "  alley lot_shape land_contour  ... 3ssn_porch screen_porch pool_area pool_qc  \\\n",
       "0  Grvl       Reg          Lvl  ...          0            0         0      NA   \n",
       "1    NA       IR1          Lvl  ...          0            0         0      NA   \n",
       "2    NA       IR1          Lvl  ...          0            0         0      NA   \n",
       "\n",
       "  fence misc_feature misc_val mo_sold  yr_sold  sale_type  \n",
       "0    NA           NA        0       4     2006        WD   \n",
       "1    NA           NA        0       8     2006        WD   \n",
       "2    NA           NA        0       9     2006        New  \n",
       "\n",
       "[3 rows x 80 columns]"
      ]
     },
     "execution_count": 12,
     "metadata": {},
     "output_type": "execute_result"
    }
   ],
   "source": [
    "[test_data[col].replace(np.nan,'NA',inplace=True) for col in categorical_columns]\n",
    "test_data.head(3)"
   ]
  },
  {
   "cell_type": "code",
   "execution_count": 13,
   "id": "fc1abe3e",
   "metadata": {
    "scrolled": true
   },
   "outputs": [
    {
     "data": {
      "text/html": [
       "<div>\n",
       "<style scoped>\n",
       "    .dataframe tbody tr th:only-of-type {\n",
       "        vertical-align: middle;\n",
       "    }\n",
       "\n",
       "    .dataframe tbody tr th {\n",
       "        vertical-align: top;\n",
       "    }\n",
       "\n",
       "    .dataframe thead th {\n",
       "        text-align: right;\n",
       "    }\n",
       "</style>\n",
       "<table border=\"1\" class=\"dataframe\">\n",
       "  <thead>\n",
       "    <tr style=\"text-align: right;\">\n",
       "      <th></th>\n",
       "      <th>id</th>\n",
       "      <th>pid</th>\n",
       "      <th>ms_subclass</th>\n",
       "      <th>ms_zoning</th>\n",
       "      <th>lot_frontage</th>\n",
       "      <th>lot_area</th>\n",
       "      <th>street</th>\n",
       "      <th>alley</th>\n",
       "      <th>lot_shape</th>\n",
       "      <th>land_contour</th>\n",
       "      <th>...</th>\n",
       "      <th>screen_porch</th>\n",
       "      <th>pool_area</th>\n",
       "      <th>pool_qc</th>\n",
       "      <th>fence</th>\n",
       "      <th>misc_feature</th>\n",
       "      <th>misc_val</th>\n",
       "      <th>mo_sold</th>\n",
       "      <th>yr_sold</th>\n",
       "      <th>sale_type</th>\n",
       "      <th>saleprice</th>\n",
       "    </tr>\n",
       "  </thead>\n",
       "  <tbody>\n",
       "    <tr>\n",
       "      <th>0</th>\n",
       "      <td>109</td>\n",
       "      <td>533352170</td>\n",
       "      <td>60</td>\n",
       "      <td>RL</td>\n",
       "      <td>0.0</td>\n",
       "      <td>13517</td>\n",
       "      <td>Pave</td>\n",
       "      <td>NA</td>\n",
       "      <td>IR1</td>\n",
       "      <td>Lvl</td>\n",
       "      <td>...</td>\n",
       "      <td>0</td>\n",
       "      <td>0</td>\n",
       "      <td>NA</td>\n",
       "      <td>NA</td>\n",
       "      <td>NA</td>\n",
       "      <td>0</td>\n",
       "      <td>3</td>\n",
       "      <td>2010</td>\n",
       "      <td>WD</td>\n",
       "      <td>130500</td>\n",
       "    </tr>\n",
       "    <tr>\n",
       "      <th>1</th>\n",
       "      <td>544</td>\n",
       "      <td>531379050</td>\n",
       "      <td>60</td>\n",
       "      <td>RL</td>\n",
       "      <td>43.0</td>\n",
       "      <td>11492</td>\n",
       "      <td>Pave</td>\n",
       "      <td>NA</td>\n",
       "      <td>IR1</td>\n",
       "      <td>Lvl</td>\n",
       "      <td>...</td>\n",
       "      <td>0</td>\n",
       "      <td>0</td>\n",
       "      <td>NA</td>\n",
       "      <td>NA</td>\n",
       "      <td>NA</td>\n",
       "      <td>0</td>\n",
       "      <td>4</td>\n",
       "      <td>2009</td>\n",
       "      <td>WD</td>\n",
       "      <td>220000</td>\n",
       "    </tr>\n",
       "    <tr>\n",
       "      <th>2</th>\n",
       "      <td>153</td>\n",
       "      <td>535304180</td>\n",
       "      <td>20</td>\n",
       "      <td>RL</td>\n",
       "      <td>68.0</td>\n",
       "      <td>7922</td>\n",
       "      <td>Pave</td>\n",
       "      <td>NA</td>\n",
       "      <td>Reg</td>\n",
       "      <td>Lvl</td>\n",
       "      <td>...</td>\n",
       "      <td>0</td>\n",
       "      <td>0</td>\n",
       "      <td>NA</td>\n",
       "      <td>NA</td>\n",
       "      <td>NA</td>\n",
       "      <td>0</td>\n",
       "      <td>1</td>\n",
       "      <td>2010</td>\n",
       "      <td>WD</td>\n",
       "      <td>109000</td>\n",
       "    </tr>\n",
       "  </tbody>\n",
       "</table>\n",
       "<p>3 rows × 81 columns</p>\n",
       "</div>"
      ],
      "text/plain": [
       "    id        pid  ms_subclass ms_zoning  lot_frontage  lot_area street alley  \\\n",
       "0  109  533352170           60        RL           0.0     13517   Pave    NA   \n",
       "1  544  531379050           60        RL          43.0     11492   Pave    NA   \n",
       "2  153  535304180           20        RL          68.0      7922   Pave    NA   \n",
       "\n",
       "  lot_shape land_contour  ... screen_porch pool_area pool_qc fence  \\\n",
       "0       IR1          Lvl  ...            0         0      NA    NA   \n",
       "1       IR1          Lvl  ...            0         0      NA    NA   \n",
       "2       Reg          Lvl  ...            0         0      NA    NA   \n",
       "\n",
       "  misc_feature misc_val mo_sold yr_sold  sale_type  saleprice  \n",
       "0           NA        0       3    2010        WD      130500  \n",
       "1           NA        0       4    2009        WD      220000  \n",
       "2           NA        0       1    2010        WD      109000  \n",
       "\n",
       "[3 rows x 81 columns]"
      ]
     },
     "execution_count": 13,
     "metadata": {},
     "output_type": "execute_result"
    }
   ],
   "source": [
    "numerical_columns=['lot_frontage', 'garage_yr_blt', 'mas_vnr_area', 'bsmt_half_bath', 'bsmt_full_bath', \n",
    "                'garage_cars', 'garage_area', 'bsmt_unf_sf', 'bsmtfin_sf_2', 'total_bsmt_sf', 'bsmtfin_sf_1']\n",
    "[train_data[col].fillna(value=0.0,inplace=True) for col in numerical_columns]\n",
    "train_data.head(3)"
   ]
  },
  {
   "cell_type": "code",
   "execution_count": 14,
   "id": "3f626a77",
   "metadata": {},
   "outputs": [
    {
     "data": {
      "text/html": [
       "<div>\n",
       "<style scoped>\n",
       "    .dataframe tbody tr th:only-of-type {\n",
       "        vertical-align: middle;\n",
       "    }\n",
       "\n",
       "    .dataframe tbody tr th {\n",
       "        vertical-align: top;\n",
       "    }\n",
       "\n",
       "    .dataframe thead th {\n",
       "        text-align: right;\n",
       "    }\n",
       "</style>\n",
       "<table border=\"1\" class=\"dataframe\">\n",
       "  <thead>\n",
       "    <tr style=\"text-align: right;\">\n",
       "      <th></th>\n",
       "      <th>id</th>\n",
       "      <th>pid</th>\n",
       "      <th>ms_subclass</th>\n",
       "      <th>ms_zoning</th>\n",
       "      <th>lot_frontage</th>\n",
       "      <th>lot_area</th>\n",
       "      <th>street</th>\n",
       "      <th>alley</th>\n",
       "      <th>lot_shape</th>\n",
       "      <th>land_contour</th>\n",
       "      <th>...</th>\n",
       "      <th>3ssn_porch</th>\n",
       "      <th>screen_porch</th>\n",
       "      <th>pool_area</th>\n",
       "      <th>pool_qc</th>\n",
       "      <th>fence</th>\n",
       "      <th>misc_feature</th>\n",
       "      <th>misc_val</th>\n",
       "      <th>mo_sold</th>\n",
       "      <th>yr_sold</th>\n",
       "      <th>sale_type</th>\n",
       "    </tr>\n",
       "  </thead>\n",
       "  <tbody>\n",
       "    <tr>\n",
       "      <th>0</th>\n",
       "      <td>2658</td>\n",
       "      <td>902301120</td>\n",
       "      <td>190</td>\n",
       "      <td>RM</td>\n",
       "      <td>69.0</td>\n",
       "      <td>9142</td>\n",
       "      <td>Pave</td>\n",
       "      <td>Grvl</td>\n",
       "      <td>Reg</td>\n",
       "      <td>Lvl</td>\n",
       "      <td>...</td>\n",
       "      <td>0</td>\n",
       "      <td>0</td>\n",
       "      <td>0</td>\n",
       "      <td>NA</td>\n",
       "      <td>NA</td>\n",
       "      <td>NA</td>\n",
       "      <td>0</td>\n",
       "      <td>4</td>\n",
       "      <td>2006</td>\n",
       "      <td>WD</td>\n",
       "    </tr>\n",
       "    <tr>\n",
       "      <th>1</th>\n",
       "      <td>2718</td>\n",
       "      <td>905108090</td>\n",
       "      <td>90</td>\n",
       "      <td>RL</td>\n",
       "      <td>0.0</td>\n",
       "      <td>9662</td>\n",
       "      <td>Pave</td>\n",
       "      <td>NA</td>\n",
       "      <td>IR1</td>\n",
       "      <td>Lvl</td>\n",
       "      <td>...</td>\n",
       "      <td>0</td>\n",
       "      <td>0</td>\n",
       "      <td>0</td>\n",
       "      <td>NA</td>\n",
       "      <td>NA</td>\n",
       "      <td>NA</td>\n",
       "      <td>0</td>\n",
       "      <td>8</td>\n",
       "      <td>2006</td>\n",
       "      <td>WD</td>\n",
       "    </tr>\n",
       "    <tr>\n",
       "      <th>2</th>\n",
       "      <td>2414</td>\n",
       "      <td>528218130</td>\n",
       "      <td>60</td>\n",
       "      <td>RL</td>\n",
       "      <td>58.0</td>\n",
       "      <td>17104</td>\n",
       "      <td>Pave</td>\n",
       "      <td>NA</td>\n",
       "      <td>IR1</td>\n",
       "      <td>Lvl</td>\n",
       "      <td>...</td>\n",
       "      <td>0</td>\n",
       "      <td>0</td>\n",
       "      <td>0</td>\n",
       "      <td>NA</td>\n",
       "      <td>NA</td>\n",
       "      <td>NA</td>\n",
       "      <td>0</td>\n",
       "      <td>9</td>\n",
       "      <td>2006</td>\n",
       "      <td>New</td>\n",
       "    </tr>\n",
       "  </tbody>\n",
       "</table>\n",
       "<p>3 rows × 80 columns</p>\n",
       "</div>"
      ],
      "text/plain": [
       "     id        pid  ms_subclass ms_zoning  lot_frontage  lot_area street  \\\n",
       "0  2658  902301120          190        RM          69.0      9142   Pave   \n",
       "1  2718  905108090           90        RL           0.0      9662   Pave   \n",
       "2  2414  528218130           60        RL          58.0     17104   Pave   \n",
       "\n",
       "  alley lot_shape land_contour  ... 3ssn_porch screen_porch pool_area pool_qc  \\\n",
       "0  Grvl       Reg          Lvl  ...          0            0         0      NA   \n",
       "1    NA       IR1          Lvl  ...          0            0         0      NA   \n",
       "2    NA       IR1          Lvl  ...          0            0         0      NA   \n",
       "\n",
       "  fence misc_feature misc_val mo_sold  yr_sold  sale_type  \n",
       "0    NA           NA        0       4     2006        WD   \n",
       "1    NA           NA        0       8     2006        WD   \n",
       "2    NA           NA        0       9     2006        New  \n",
       "\n",
       "[3 rows x 80 columns]"
      ]
     },
     "execution_count": 14,
     "metadata": {},
     "output_type": "execute_result"
    }
   ],
   "source": [
    "[test_data[col].fillna(value=0.0,inplace=True) for col in numerical_columns]\n",
    "test_data.head(3)"
   ]
  },
  {
   "cell_type": "code",
   "execution_count": 15,
   "id": "39f090f3",
   "metadata": {
    "scrolled": true
   },
   "outputs": [
    {
     "data": {
      "text/plain": [
       "array(['BrkFace', 'NA', 'Stone', 'BrkCmn'], dtype=object)"
      ]
     },
     "execution_count": 15,
     "metadata": {},
     "output_type": "execute_result"
    }
   ],
   "source": [
    "train_data.replace('None', 'NA', inplace=True)\n",
    "train_data['mas_vnr_type'].unique()"
   ]
  },
  {
   "cell_type": "code",
   "execution_count": 16,
   "id": "7e1aa45d",
   "metadata": {},
   "outputs": [
    {
     "data": {
      "text/plain": [
       "array(['NA', 'BrkFace', 'Stone', 'BrkCmn', 'CBlock'], dtype=object)"
      ]
     },
     "execution_count": 16,
     "metadata": {},
     "output_type": "execute_result"
    }
   ],
   "source": [
    "test_data.replace('None', 'NA', inplace=True)\n",
    "test_data['mas_vnr_type'].unique()"
   ]
  },
  {
   "cell_type": "markdown",
   "id": "d998dd7d",
   "metadata": {},
   "source": [
    "### Feature Engineering"
   ]
  },
  {
   "cell_type": "code",
   "execution_count": 17,
   "id": "b67828e8",
   "metadata": {},
   "outputs": [],
   "source": [
    "train_data['bathrooms'] = train_data['bsmt_full_bath'] + train_data['full_bath']+(train_data['bsmt_half_bath']/2) + (train_data['half_bath']/2)"
   ]
  },
  {
   "cell_type": "code",
   "execution_count": 18,
   "id": "6486e073",
   "metadata": {},
   "outputs": [],
   "source": [
    "test_data['bathrooms'] = test_data['bsmt_full_bath'] + test_data['full_bath']+(test_data['bsmt_half_bath']/2) + (test_data['half_bath']/2)"
   ]
  },
  {
   "cell_type": "code",
   "execution_count": 19,
   "id": "fac557a8",
   "metadata": {},
   "outputs": [],
   "source": [
    "train_data['has_pool'] = np.where(train_data['pool_qc'].str.contains('NA'), 0, 1)"
   ]
  },
  {
   "cell_type": "code",
   "execution_count": 20,
   "id": "26742e8c",
   "metadata": {},
   "outputs": [],
   "source": [
    "test_data['has_pool'] = np.where(test_data['pool_qc'].str.contains('NA'), 0, 1)"
   ]
  },
  {
   "cell_type": "code",
   "execution_count": 21,
   "id": "aebba3d7",
   "metadata": {},
   "outputs": [],
   "source": [
    "train_data['has_fence'] = np.where(train_data['fence'].str.contains('NA'), 0, 1)"
   ]
  },
  {
   "cell_type": "code",
   "execution_count": 22,
   "id": "17e28f44",
   "metadata": {},
   "outputs": [],
   "source": [
    "test_data['has_fence'] = np.where(test_data['fence'].str.contains('NA'), 0, 1)"
   ]
  },
  {
   "cell_type": "code",
   "execution_count": 23,
   "id": "17c764cc",
   "metadata": {},
   "outputs": [],
   "source": [
    "train_data['has_central_air'] = np.where(train_data['central_air'].str.contains('N'), 0, 1)"
   ]
  },
  {
   "cell_type": "code",
   "execution_count": 24,
   "id": "ad93e6e4",
   "metadata": {},
   "outputs": [],
   "source": [
    "test_data['has_central_air'] = np.where(test_data['central_air'].str.contains('N'), 0, 1)"
   ]
  },
  {
   "cell_type": "code",
   "execution_count": 25,
   "id": "be38b7b7",
   "metadata": {},
   "outputs": [],
   "source": [
    "train_data['paved_street'] = train_data['street'].map({'Pave': 1, 'Grvl': 0})"
   ]
  },
  {
   "cell_type": "code",
   "execution_count": 26,
   "id": "2812a89e",
   "metadata": {},
   "outputs": [],
   "source": [
    "test_data['paved_street'] = test_data['street'].map({'Pave': 1, 'Grvl': 0})"
   ]
  },
  {
   "cell_type": "code",
   "execution_count": 27,
   "id": "e444d979",
   "metadata": {},
   "outputs": [],
   "source": [
    "train_data['garage_cars'] = train_data['garage_cars'].astype(int)"
   ]
  },
  {
   "cell_type": "code",
   "execution_count": 28,
   "id": "26475267",
   "metadata": {},
   "outputs": [],
   "source": [
    "test_data['garage_cars'] = test_data['garage_cars'].astype(int)"
   ]
  },
  {
   "cell_type": "code",
   "execution_count": 29,
   "id": "6d39ddb5",
   "metadata": {},
   "outputs": [],
   "source": [
    "train_data['has_garage'] = np.where(train_data['garage_finish'].str.contains('NA'), 0, 1)"
   ]
  },
  {
   "cell_type": "code",
   "execution_count": 30,
   "id": "a416b114",
   "metadata": {},
   "outputs": [],
   "source": [
    "test_data['has_garage'] = np.where(test_data['garage_finish'].str.contains('NA'), 0, 1)"
   ]
  },
  {
   "cell_type": "code",
   "execution_count": 31,
   "id": "b146ba1c",
   "metadata": {},
   "outputs": [],
   "source": [
    "train_data['is_remodeled'] = np.where(train_data['year_remod/add'] - train_data['year_built'] > 0, 1, 0)"
   ]
  },
  {
   "cell_type": "code",
   "execution_count": 32,
   "id": "7ecd03b7",
   "metadata": {},
   "outputs": [],
   "source": [
    "test_data['is_remodeled'] = np.where(test_data['year_remod/add'] - test_data['year_built'] > 0, 1, 0)"
   ]
  },
  {
   "cell_type": "code",
   "execution_count": 33,
   "id": "63e07005",
   "metadata": {},
   "outputs": [
    {
     "data": {
      "text/plain": [
       "(2051, 88)"
      ]
     },
     "execution_count": 33,
     "metadata": {},
     "output_type": "execute_result"
    }
   ],
   "source": [
    "train_data.shape"
   ]
  },
  {
   "cell_type": "code",
   "execution_count": 34,
   "id": "24b45a7e",
   "metadata": {},
   "outputs": [
    {
     "data": {
      "text/plain": [
       "(878, 87)"
      ]
     },
     "execution_count": 34,
     "metadata": {},
     "output_type": "execute_result"
    }
   ],
   "source": [
    "test_data.shape"
   ]
  },
  {
   "cell_type": "markdown",
   "id": "c5f92068",
   "metadata": {},
   "source": [
    "### Rename the columns in Train and Test data"
   ]
  },
  {
   "cell_type": "code",
   "execution_count": 35,
   "id": "681d02de",
   "metadata": {},
   "outputs": [],
   "source": [
    "\n",
    "rename_columns_dict = {\n",
    "    'pid': 'parcel_id',\n",
    "    'ms_subclass' : 'ms_sub_class',\n",
    "    'ms_zoning': 'zoning', \n",
    "    'lot_frontage': 'lot_frontage',\n",
    "    'Lot Area': 'lot_sq_ft',\n",
    "    'street': 'street', \n",
    "    'alley': 'alley', \n",
    "    'lot_shape': 'lot_shape', \n",
    "    'land_contour': 'property_flatness', \n",
    "    'utilities': 'utilities',       \n",
    "    'lot_config': 'lot_config', \n",
    "    'land_slope': 'land_slope', \n",
    "    'neighborhood': 'neighborhood', \n",
    "    'condition_1': 'proximity_1',\n",
    "    'condition_2': 'proximity_2', \n",
    "    'bldg_type': 'building_type', \n",
    "    'house_style': 'dwelling_style', \n",
    "    'overall_qual': 'house_quality_rating',\n",
    "    'overall_cond': 'house_condition_rating', \n",
    "    'year_built': 'year_built', \n",
    "    'year_remod/add': 'remodel_year', \n",
    "    'roof_style': 'roof_style',\n",
    "    'roof_matl': 'roof_material', \n",
    "    'exterior_1st': 'exterior_1', \n",
    "    'exterior_2nd': 'exterior_2', \n",
    "    'mas_vnr_type': 'masonry_type',\n",
    "    'mas_vnr_area': 'masonry_area', \n",
    "    'exter_qual': 'exterior_quality', \n",
    "    'exter_cond': 'exterior_condition', \n",
    "    'foundation': 'foundation_type', \n",
    "    'bsmt_qual': 'basement_height',\n",
    "    'bsmt_cond': 'basement_condition', \n",
    "    'bsmt_exposure': 'basement_exposure', \n",
    "    'bsmtfin_type_1': 'basement_finished_condition', \n",
    "    'bsmtfin_sf_1': 'basement_finished_sqft',\n",
    "    'bsmtfin_type_2': 'basement_multipletypes_condition', \n",
    "    'bsmtfin_sf_2': 'basement_type2_finished_sqft', \n",
    "    'bsmt_unf_sf': 'unfinished_basement_sqft', \n",
    "    'total_bsmt_sf': 'total_basement_sqft',\n",
    "    'heating': 'heating_type', \n",
    "    'heating_qc': 'heating_quality', \n",
    "    'central_air': 'central_air', \n",
    "    'has_central_air':'has_central_air',\n",
    "    'electrical':'electrical_system', \n",
    "    '1st_flr_sf':'first_floor_sqft',\n",
    "    '2nd_flr_sf': 'second_floor_sqft', \n",
    "    'low_qual_fin_sf': 'low_quality_sqft', \n",
    "    'gr_liv_area': 'above_ground_living_area_sqft', \n",
    "    'bsmt_full_bath': 'basement_full_bath',\n",
    "    'bsmt_half_bath': 'basement_half_bath', \n",
    "    'full_bath': 'full_bath', \n",
    "    'half_bath': 'half_bath', \n",
    "    'bedroom_abvgr': 'bedrooms',\n",
    "    'kitchen_abvgr': 'kitchens', \n",
    "    'kitchen_qual': 'kitchen_quality', \n",
    "    'totrms_abvgrd': 'total_rooms(non-bath)', \n",
    "    'functional': 'home_functionality',\n",
    "    'fireplaces': 'fireplaces', \n",
    "    'fireplace_qu': 'fireplace_quality', \n",
    "    'garage_type': 'garage_location', \n",
    "    'garage_yr_blt': 'garage_year_built',\n",
    "    'garage_finish': 'garage_interior_finish', \n",
    "    'garage_cars': 'garage_capacity', \n",
    "    'garage_area': 'garage_sqft', \n",
    "    'garage_qual': 'garage_quality',\n",
    "    'garage_cond': 'garage_condition', \n",
    "    'paved_drive': 'driveway_type', \n",
    "    'wood_deck_sf': 'wood_deck_sqft', \n",
    "    'open_porch_sqft': 'open_porch_sqft',\n",
    "    'enclosed_porch': 'enclosed_porch_sqft', \n",
    "    '3ssn_porch': 'three_season_porch_sqft', \n",
    "    'screen_porch': 'screen_porch_sqft', \n",
    "    'pool_area': 'pool_size', \n",
    "    'pool_qc': 'pool_quality',\n",
    "    'fence': 'fence', \n",
    "    'misc_feature': 'misc_feature',\n",
    "    'misc_val': 'misc_feature_value',\n",
    "    'mo_sold': 'month_sold', \n",
    "    'yr_sold': 'year_sold', \n",
    "    'sale_type': 'sale_type', \n",
    "    'saleprice': 'price',\n",
    "    'bathrooms' :'bathrooms',\n",
    "    'has_pool' : 'has_pool',\n",
    "    'has_fence' : 'has_fence',\n",
    "    'paved_street' :'paved_street',\n",
    "    'has_garage':'has_garage',\n",
    "    'is_remodeled':'is_remodeled'\n",
    "}"
   ]
  },
  {
   "cell_type": "code",
   "execution_count": 36,
   "id": "17474825",
   "metadata": {},
   "outputs": [],
   "source": [
    "train_data.rename(columns=rename_columns_dict, inplace=True)"
   ]
  },
  {
   "cell_type": "code",
   "execution_count": 37,
   "id": "85068975",
   "metadata": {},
   "outputs": [],
   "source": [
    "test_data.rename(columns=rename_columns_dict, inplace=True)"
   ]
  },
  {
   "cell_type": "code",
   "execution_count": 38,
   "id": "76bbade5",
   "metadata": {
    "scrolled": false
   },
   "outputs": [
    {
     "data": {
      "text/html": [
       "<div>\n",
       "<style scoped>\n",
       "    .dataframe tbody tr th:only-of-type {\n",
       "        vertical-align: middle;\n",
       "    }\n",
       "\n",
       "    .dataframe tbody tr th {\n",
       "        vertical-align: top;\n",
       "    }\n",
       "\n",
       "    .dataframe thead th {\n",
       "        text-align: right;\n",
       "    }\n",
       "</style>\n",
       "<table border=\"1\" class=\"dataframe\">\n",
       "  <thead>\n",
       "    <tr style=\"text-align: right;\">\n",
       "      <th></th>\n",
       "      <th>id</th>\n",
       "      <th>parcel_id</th>\n",
       "      <th>ms_sub_class</th>\n",
       "      <th>zoning</th>\n",
       "      <th>lot_frontage</th>\n",
       "      <th>lot_area</th>\n",
       "      <th>street</th>\n",
       "      <th>alley</th>\n",
       "      <th>lot_shape</th>\n",
       "      <th>property_flatness</th>\n",
       "      <th>...</th>\n",
       "      <th>month_sold</th>\n",
       "      <th>year_sold</th>\n",
       "      <th>sale_type</th>\n",
       "      <th>bathrooms</th>\n",
       "      <th>has_pool</th>\n",
       "      <th>has_fence</th>\n",
       "      <th>has_central_air</th>\n",
       "      <th>paved_street</th>\n",
       "      <th>has_garage</th>\n",
       "      <th>is_remodeled</th>\n",
       "    </tr>\n",
       "  </thead>\n",
       "  <tbody>\n",
       "    <tr>\n",
       "      <th>0</th>\n",
       "      <td>2658</td>\n",
       "      <td>902301120</td>\n",
       "      <td>190</td>\n",
       "      <td>RM</td>\n",
       "      <td>69.0</td>\n",
       "      <td>9142</td>\n",
       "      <td>Pave</td>\n",
       "      <td>Grvl</td>\n",
       "      <td>Reg</td>\n",
       "      <td>Lvl</td>\n",
       "      <td>...</td>\n",
       "      <td>4</td>\n",
       "      <td>2006</td>\n",
       "      <td>WD</td>\n",
       "      <td>2.0</td>\n",
       "      <td>0</td>\n",
       "      <td>0</td>\n",
       "      <td>0</td>\n",
       "      <td>1</td>\n",
       "      <td>1</td>\n",
       "      <td>1</td>\n",
       "    </tr>\n",
       "    <tr>\n",
       "      <th>1</th>\n",
       "      <td>2718</td>\n",
       "      <td>905108090</td>\n",
       "      <td>90</td>\n",
       "      <td>RL</td>\n",
       "      <td>0.0</td>\n",
       "      <td>9662</td>\n",
       "      <td>Pave</td>\n",
       "      <td>NA</td>\n",
       "      <td>IR1</td>\n",
       "      <td>Lvl</td>\n",
       "      <td>...</td>\n",
       "      <td>8</td>\n",
       "      <td>2006</td>\n",
       "      <td>WD</td>\n",
       "      <td>2.0</td>\n",
       "      <td>0</td>\n",
       "      <td>0</td>\n",
       "      <td>1</td>\n",
       "      <td>1</td>\n",
       "      <td>1</td>\n",
       "      <td>0</td>\n",
       "    </tr>\n",
       "    <tr>\n",
       "      <th>2</th>\n",
       "      <td>2414</td>\n",
       "      <td>528218130</td>\n",
       "      <td>60</td>\n",
       "      <td>RL</td>\n",
       "      <td>58.0</td>\n",
       "      <td>17104</td>\n",
       "      <td>Pave</td>\n",
       "      <td>NA</td>\n",
       "      <td>IR1</td>\n",
       "      <td>Lvl</td>\n",
       "      <td>...</td>\n",
       "      <td>9</td>\n",
       "      <td>2006</td>\n",
       "      <td>New</td>\n",
       "      <td>3.5</td>\n",
       "      <td>0</td>\n",
       "      <td>0</td>\n",
       "      <td>1</td>\n",
       "      <td>1</td>\n",
       "      <td>1</td>\n",
       "      <td>0</td>\n",
       "    </tr>\n",
       "  </tbody>\n",
       "</table>\n",
       "<p>3 rows × 87 columns</p>\n",
       "</div>"
      ],
      "text/plain": [
       "     id  parcel_id  ms_sub_class zoning  lot_frontage  lot_area street alley  \\\n",
       "0  2658  902301120           190     RM          69.0      9142   Pave  Grvl   \n",
       "1  2718  905108090            90     RL           0.0      9662   Pave    NA   \n",
       "2  2414  528218130            60     RL          58.0     17104   Pave    NA   \n",
       "\n",
       "  lot_shape property_flatness  ... month_sold year_sold sale_type bathrooms  \\\n",
       "0       Reg               Lvl  ...          4      2006       WD        2.0   \n",
       "1       IR1               Lvl  ...          8      2006       WD        2.0   \n",
       "2       IR1               Lvl  ...          9      2006       New       3.5   \n",
       "\n",
       "  has_pool has_fence has_central_air paved_street  has_garage  is_remodeled  \n",
       "0        0         0               0            1           1             1  \n",
       "1        0         0               1            1           1             0  \n",
       "2        0         0               1            1           1             0  \n",
       "\n",
       "[3 rows x 87 columns]"
      ]
     },
     "execution_count": 38,
     "metadata": {},
     "output_type": "execute_result"
    }
   ],
   "source": [
    "test_data.head(3)"
   ]
  },
  {
   "cell_type": "code",
   "execution_count": 39,
   "id": "bfe4ce88",
   "metadata": {},
   "outputs": [
    {
     "data": {
      "text/html": [
       "<div>\n",
       "<style scoped>\n",
       "    .dataframe tbody tr th:only-of-type {\n",
       "        vertical-align: middle;\n",
       "    }\n",
       "\n",
       "    .dataframe tbody tr th {\n",
       "        vertical-align: top;\n",
       "    }\n",
       "\n",
       "    .dataframe thead th {\n",
       "        text-align: right;\n",
       "    }\n",
       "</style>\n",
       "<table border=\"1\" class=\"dataframe\">\n",
       "  <thead>\n",
       "    <tr style=\"text-align: right;\">\n",
       "      <th></th>\n",
       "      <th>id</th>\n",
       "      <th>parcel_id</th>\n",
       "      <th>ms_sub_class</th>\n",
       "      <th>zoning</th>\n",
       "      <th>lot_frontage</th>\n",
       "      <th>lot_area</th>\n",
       "      <th>street</th>\n",
       "      <th>alley</th>\n",
       "      <th>lot_shape</th>\n",
       "      <th>property_flatness</th>\n",
       "      <th>...</th>\n",
       "      <th>year_sold</th>\n",
       "      <th>sale_type</th>\n",
       "      <th>price</th>\n",
       "      <th>bathrooms</th>\n",
       "      <th>has_pool</th>\n",
       "      <th>has_fence</th>\n",
       "      <th>has_central_air</th>\n",
       "      <th>paved_street</th>\n",
       "      <th>has_garage</th>\n",
       "      <th>is_remodeled</th>\n",
       "    </tr>\n",
       "  </thead>\n",
       "  <tbody>\n",
       "    <tr>\n",
       "      <th>0</th>\n",
       "      <td>109</td>\n",
       "      <td>533352170</td>\n",
       "      <td>60</td>\n",
       "      <td>RL</td>\n",
       "      <td>0.0</td>\n",
       "      <td>13517</td>\n",
       "      <td>Pave</td>\n",
       "      <td>NA</td>\n",
       "      <td>IR1</td>\n",
       "      <td>Lvl</td>\n",
       "      <td>...</td>\n",
       "      <td>2010</td>\n",
       "      <td>WD</td>\n",
       "      <td>130500</td>\n",
       "      <td>2.5</td>\n",
       "      <td>0</td>\n",
       "      <td>0</td>\n",
       "      <td>1</td>\n",
       "      <td>1</td>\n",
       "      <td>1</td>\n",
       "      <td>1</td>\n",
       "    </tr>\n",
       "    <tr>\n",
       "      <th>1</th>\n",
       "      <td>544</td>\n",
       "      <td>531379050</td>\n",
       "      <td>60</td>\n",
       "      <td>RL</td>\n",
       "      <td>43.0</td>\n",
       "      <td>11492</td>\n",
       "      <td>Pave</td>\n",
       "      <td>NA</td>\n",
       "      <td>IR1</td>\n",
       "      <td>Lvl</td>\n",
       "      <td>...</td>\n",
       "      <td>2009</td>\n",
       "      <td>WD</td>\n",
       "      <td>220000</td>\n",
       "      <td>3.5</td>\n",
       "      <td>0</td>\n",
       "      <td>0</td>\n",
       "      <td>1</td>\n",
       "      <td>1</td>\n",
       "      <td>1</td>\n",
       "      <td>1</td>\n",
       "    </tr>\n",
       "    <tr>\n",
       "      <th>2</th>\n",
       "      <td>153</td>\n",
       "      <td>535304180</td>\n",
       "      <td>20</td>\n",
       "      <td>RL</td>\n",
       "      <td>68.0</td>\n",
       "      <td>7922</td>\n",
       "      <td>Pave</td>\n",
       "      <td>NA</td>\n",
       "      <td>Reg</td>\n",
       "      <td>Lvl</td>\n",
       "      <td>...</td>\n",
       "      <td>2010</td>\n",
       "      <td>WD</td>\n",
       "      <td>109000</td>\n",
       "      <td>2.0</td>\n",
       "      <td>0</td>\n",
       "      <td>0</td>\n",
       "      <td>1</td>\n",
       "      <td>1</td>\n",
       "      <td>1</td>\n",
       "      <td>1</td>\n",
       "    </tr>\n",
       "  </tbody>\n",
       "</table>\n",
       "<p>3 rows × 88 columns</p>\n",
       "</div>"
      ],
      "text/plain": [
       "    id  parcel_id  ms_sub_class zoning  lot_frontage  lot_area street alley  \\\n",
       "0  109  533352170            60     RL           0.0     13517   Pave    NA   \n",
       "1  544  531379050            60     RL          43.0     11492   Pave    NA   \n",
       "2  153  535304180            20     RL          68.0      7922   Pave    NA   \n",
       "\n",
       "  lot_shape property_flatness  ... year_sold sale_type   price bathrooms  \\\n",
       "0       IR1               Lvl  ...      2010       WD   130500       2.5   \n",
       "1       IR1               Lvl  ...      2009       WD   220000       3.5   \n",
       "2       Reg               Lvl  ...      2010       WD   109000       2.0   \n",
       "\n",
       "  has_pool has_fence has_central_air paved_street  has_garage  is_remodeled  \n",
       "0        0         0               1            1           1             1  \n",
       "1        0         0               1            1           1             1  \n",
       "2        0         0               1            1           1             1  \n",
       "\n",
       "[3 rows x 88 columns]"
      ]
     },
     "execution_count": 39,
     "metadata": {},
     "output_type": "execute_result"
    }
   ],
   "source": [
    "train_data.head(3)"
   ]
  },
  {
   "cell_type": "markdown",
   "id": "32f24664",
   "metadata": {},
   "source": [
    "### Drop the columns on which features in feature engineering were created"
   ]
  },
  {
   "cell_type": "code",
   "execution_count": 40,
   "id": "09c17a75",
   "metadata": {},
   "outputs": [],
   "source": [
    "train_data.drop(columns=['pool_quality','full_bath','half_bath','basement_full_bath',\n",
    "                        'basement_half_bath','fence','street','central_air',\n",
    "                        'garage_interior_finish','first_floor_sqft','second_floor_sqft','low_quality_sqft','basement_finished_sqft',\n",
    "                         'basement_type2_finished_sqft','unfinished_basement_sqft','alley','remodel_year'\n",
    "                         ],inplace=True)"
   ]
  },
  {
   "cell_type": "code",
   "execution_count": 41,
   "id": "b7576b5a",
   "metadata": {
    "scrolled": true
   },
   "outputs": [
    {
     "data": {
      "text/html": [
       "<div>\n",
       "<style scoped>\n",
       "    .dataframe tbody tr th:only-of-type {\n",
       "        vertical-align: middle;\n",
       "    }\n",
       "\n",
       "    .dataframe tbody tr th {\n",
       "        vertical-align: top;\n",
       "    }\n",
       "\n",
       "    .dataframe thead th {\n",
       "        text-align: right;\n",
       "    }\n",
       "</style>\n",
       "<table border=\"1\" class=\"dataframe\">\n",
       "  <thead>\n",
       "    <tr style=\"text-align: right;\">\n",
       "      <th></th>\n",
       "      <th>id</th>\n",
       "      <th>parcel_id</th>\n",
       "      <th>ms_sub_class</th>\n",
       "      <th>zoning</th>\n",
       "      <th>lot_frontage</th>\n",
       "      <th>lot_area</th>\n",
       "      <th>lot_shape</th>\n",
       "      <th>property_flatness</th>\n",
       "      <th>utilities</th>\n",
       "      <th>lot_config</th>\n",
       "      <th>...</th>\n",
       "      <th>year_sold</th>\n",
       "      <th>sale_type</th>\n",
       "      <th>price</th>\n",
       "      <th>bathrooms</th>\n",
       "      <th>has_pool</th>\n",
       "      <th>has_fence</th>\n",
       "      <th>has_central_air</th>\n",
       "      <th>paved_street</th>\n",
       "      <th>has_garage</th>\n",
       "      <th>is_remodeled</th>\n",
       "    </tr>\n",
       "  </thead>\n",
       "  <tbody>\n",
       "    <tr>\n",
       "      <th>0</th>\n",
       "      <td>109</td>\n",
       "      <td>533352170</td>\n",
       "      <td>60</td>\n",
       "      <td>RL</td>\n",
       "      <td>0.0</td>\n",
       "      <td>13517</td>\n",
       "      <td>IR1</td>\n",
       "      <td>Lvl</td>\n",
       "      <td>AllPub</td>\n",
       "      <td>CulDSac</td>\n",
       "      <td>...</td>\n",
       "      <td>2010</td>\n",
       "      <td>WD</td>\n",
       "      <td>130500</td>\n",
       "      <td>2.5</td>\n",
       "      <td>0</td>\n",
       "      <td>0</td>\n",
       "      <td>1</td>\n",
       "      <td>1</td>\n",
       "      <td>1</td>\n",
       "      <td>1</td>\n",
       "    </tr>\n",
       "    <tr>\n",
       "      <th>1</th>\n",
       "      <td>544</td>\n",
       "      <td>531379050</td>\n",
       "      <td>60</td>\n",
       "      <td>RL</td>\n",
       "      <td>43.0</td>\n",
       "      <td>11492</td>\n",
       "      <td>IR1</td>\n",
       "      <td>Lvl</td>\n",
       "      <td>AllPub</td>\n",
       "      <td>CulDSac</td>\n",
       "      <td>...</td>\n",
       "      <td>2009</td>\n",
       "      <td>WD</td>\n",
       "      <td>220000</td>\n",
       "      <td>3.5</td>\n",
       "      <td>0</td>\n",
       "      <td>0</td>\n",
       "      <td>1</td>\n",
       "      <td>1</td>\n",
       "      <td>1</td>\n",
       "      <td>1</td>\n",
       "    </tr>\n",
       "    <tr>\n",
       "      <th>2</th>\n",
       "      <td>153</td>\n",
       "      <td>535304180</td>\n",
       "      <td>20</td>\n",
       "      <td>RL</td>\n",
       "      <td>68.0</td>\n",
       "      <td>7922</td>\n",
       "      <td>Reg</td>\n",
       "      <td>Lvl</td>\n",
       "      <td>AllPub</td>\n",
       "      <td>Inside</td>\n",
       "      <td>...</td>\n",
       "      <td>2010</td>\n",
       "      <td>WD</td>\n",
       "      <td>109000</td>\n",
       "      <td>2.0</td>\n",
       "      <td>0</td>\n",
       "      <td>0</td>\n",
       "      <td>1</td>\n",
       "      <td>1</td>\n",
       "      <td>1</td>\n",
       "      <td>1</td>\n",
       "    </tr>\n",
       "  </tbody>\n",
       "</table>\n",
       "<p>3 rows × 71 columns</p>\n",
       "</div>"
      ],
      "text/plain": [
       "    id  parcel_id  ms_sub_class zoning  lot_frontage  lot_area lot_shape  \\\n",
       "0  109  533352170            60     RL           0.0     13517       IR1   \n",
       "1  544  531379050            60     RL          43.0     11492       IR1   \n",
       "2  153  535304180            20     RL          68.0      7922       Reg   \n",
       "\n",
       "  property_flatness utilities lot_config  ... year_sold sale_type   price  \\\n",
       "0               Lvl    AllPub    CulDSac  ...      2010       WD   130500   \n",
       "1               Lvl    AllPub    CulDSac  ...      2009       WD   220000   \n",
       "2               Lvl    AllPub     Inside  ...      2010       WD   109000   \n",
       "\n",
       "  bathrooms has_pool has_fence  has_central_air  paved_street  has_garage  \\\n",
       "0       2.5        0         0                1             1           1   \n",
       "1       3.5        0         0                1             1           1   \n",
       "2       2.0        0         0                1             1           1   \n",
       "\n",
       "  is_remodeled  \n",
       "0            1  \n",
       "1            1  \n",
       "2            1  \n",
       "\n",
       "[3 rows x 71 columns]"
      ]
     },
     "execution_count": 41,
     "metadata": {},
     "output_type": "execute_result"
    }
   ],
   "source": [
    "train_data.head(3)"
   ]
  },
  {
   "cell_type": "code",
   "execution_count": 42,
   "id": "7ecb52ec",
   "metadata": {},
   "outputs": [],
   "source": [
    "test_data.drop(columns=['pool_quality','full_bath','half_bath','basement_full_bath',\n",
    "                        'basement_half_bath','fence','street','central_air',\n",
    "                        'garage_interior_finish','first_floor_sqft','second_floor_sqft','low_quality_sqft','basement_finished_sqft',\n",
    "                         'basement_type2_finished_sqft','unfinished_basement_sqft','alley','remodel_year'\n",
    "                         ],inplace=True)"
   ]
  },
  {
   "cell_type": "code",
   "execution_count": 43,
   "id": "4d169b76",
   "metadata": {
    "scrolled": true
   },
   "outputs": [
    {
     "data": {
      "text/html": [
       "<div>\n",
       "<style scoped>\n",
       "    .dataframe tbody tr th:only-of-type {\n",
       "        vertical-align: middle;\n",
       "    }\n",
       "\n",
       "    .dataframe tbody tr th {\n",
       "        vertical-align: top;\n",
       "    }\n",
       "\n",
       "    .dataframe thead th {\n",
       "        text-align: right;\n",
       "    }\n",
       "</style>\n",
       "<table border=\"1\" class=\"dataframe\">\n",
       "  <thead>\n",
       "    <tr style=\"text-align: right;\">\n",
       "      <th></th>\n",
       "      <th>id</th>\n",
       "      <th>parcel_id</th>\n",
       "      <th>ms_sub_class</th>\n",
       "      <th>zoning</th>\n",
       "      <th>lot_frontage</th>\n",
       "      <th>lot_area</th>\n",
       "      <th>lot_shape</th>\n",
       "      <th>property_flatness</th>\n",
       "      <th>utilities</th>\n",
       "      <th>lot_config</th>\n",
       "      <th>...</th>\n",
       "      <th>month_sold</th>\n",
       "      <th>year_sold</th>\n",
       "      <th>sale_type</th>\n",
       "      <th>bathrooms</th>\n",
       "      <th>has_pool</th>\n",
       "      <th>has_fence</th>\n",
       "      <th>has_central_air</th>\n",
       "      <th>paved_street</th>\n",
       "      <th>has_garage</th>\n",
       "      <th>is_remodeled</th>\n",
       "    </tr>\n",
       "  </thead>\n",
       "  <tbody>\n",
       "    <tr>\n",
       "      <th>0</th>\n",
       "      <td>2658</td>\n",
       "      <td>902301120</td>\n",
       "      <td>190</td>\n",
       "      <td>RM</td>\n",
       "      <td>69.0</td>\n",
       "      <td>9142</td>\n",
       "      <td>Reg</td>\n",
       "      <td>Lvl</td>\n",
       "      <td>AllPub</td>\n",
       "      <td>Inside</td>\n",
       "      <td>...</td>\n",
       "      <td>4</td>\n",
       "      <td>2006</td>\n",
       "      <td>WD</td>\n",
       "      <td>2.0</td>\n",
       "      <td>0</td>\n",
       "      <td>0</td>\n",
       "      <td>0</td>\n",
       "      <td>1</td>\n",
       "      <td>1</td>\n",
       "      <td>1</td>\n",
       "    </tr>\n",
       "    <tr>\n",
       "      <th>1</th>\n",
       "      <td>2718</td>\n",
       "      <td>905108090</td>\n",
       "      <td>90</td>\n",
       "      <td>RL</td>\n",
       "      <td>0.0</td>\n",
       "      <td>9662</td>\n",
       "      <td>IR1</td>\n",
       "      <td>Lvl</td>\n",
       "      <td>AllPub</td>\n",
       "      <td>Inside</td>\n",
       "      <td>...</td>\n",
       "      <td>8</td>\n",
       "      <td>2006</td>\n",
       "      <td>WD</td>\n",
       "      <td>2.0</td>\n",
       "      <td>0</td>\n",
       "      <td>0</td>\n",
       "      <td>1</td>\n",
       "      <td>1</td>\n",
       "      <td>1</td>\n",
       "      <td>0</td>\n",
       "    </tr>\n",
       "    <tr>\n",
       "      <th>2</th>\n",
       "      <td>2414</td>\n",
       "      <td>528218130</td>\n",
       "      <td>60</td>\n",
       "      <td>RL</td>\n",
       "      <td>58.0</td>\n",
       "      <td>17104</td>\n",
       "      <td>IR1</td>\n",
       "      <td>Lvl</td>\n",
       "      <td>AllPub</td>\n",
       "      <td>Inside</td>\n",
       "      <td>...</td>\n",
       "      <td>9</td>\n",
       "      <td>2006</td>\n",
       "      <td>New</td>\n",
       "      <td>3.5</td>\n",
       "      <td>0</td>\n",
       "      <td>0</td>\n",
       "      <td>1</td>\n",
       "      <td>1</td>\n",
       "      <td>1</td>\n",
       "      <td>0</td>\n",
       "    </tr>\n",
       "  </tbody>\n",
       "</table>\n",
       "<p>3 rows × 70 columns</p>\n",
       "</div>"
      ],
      "text/plain": [
       "     id  parcel_id  ms_sub_class zoning  lot_frontage  lot_area lot_shape  \\\n",
       "0  2658  902301120           190     RM          69.0      9142       Reg   \n",
       "1  2718  905108090            90     RL           0.0      9662       IR1   \n",
       "2  2414  528218130            60     RL          58.0     17104       IR1   \n",
       "\n",
       "  property_flatness utilities lot_config  ... month_sold year_sold sale_type  \\\n",
       "0               Lvl    AllPub     Inside  ...          4      2006       WD    \n",
       "1               Lvl    AllPub     Inside  ...          8      2006       WD    \n",
       "2               Lvl    AllPub     Inside  ...          9      2006       New   \n",
       "\n",
       "  bathrooms has_pool has_fence  has_central_air  paved_street  has_garage  \\\n",
       "0       2.0        0         0                0             1           1   \n",
       "1       2.0        0         0                1             1           1   \n",
       "2       3.5        0         0                1             1           1   \n",
       "\n",
       "  is_remodeled  \n",
       "0            1  \n",
       "1            0  \n",
       "2            0  \n",
       "\n",
       "[3 rows x 70 columns]"
      ]
     },
     "execution_count": 43,
     "metadata": {},
     "output_type": "execute_result"
    }
   ],
   "source": [
    "test_data.head(3)"
   ]
  },
  {
   "cell_type": "code",
   "execution_count": 44,
   "id": "95472cc8",
   "metadata": {},
   "outputs": [],
   "source": [
    "train_data.reset_index(drop=True,inplace=True)"
   ]
  },
  {
   "cell_type": "markdown",
   "id": "3f6465a5",
   "metadata": {},
   "source": [
    "### Check and remove outliers"
   ]
  },
  {
   "cell_type": "code",
   "execution_count": 45,
   "id": "d670fc06",
   "metadata": {
    "scrolled": false
   },
   "outputs": [
    {
     "data": {
      "text/html": [
       "<div>\n",
       "<style scoped>\n",
       "    .dataframe tbody tr th:only-of-type {\n",
       "        vertical-align: middle;\n",
       "    }\n",
       "\n",
       "    .dataframe tbody tr th {\n",
       "        vertical-align: top;\n",
       "    }\n",
       "\n",
       "    .dataframe thead th {\n",
       "        text-align: right;\n",
       "    }\n",
       "</style>\n",
       "<table border=\"1\" class=\"dataframe\">\n",
       "  <thead>\n",
       "    <tr style=\"text-align: right;\">\n",
       "      <th></th>\n",
       "      <th>id</th>\n",
       "      <th>parcel_id</th>\n",
       "      <th>ms_sub_class</th>\n",
       "      <th>zoning</th>\n",
       "      <th>lot_frontage</th>\n",
       "      <th>lot_area</th>\n",
       "      <th>lot_shape</th>\n",
       "      <th>property_flatness</th>\n",
       "      <th>utilities</th>\n",
       "      <th>lot_config</th>\n",
       "      <th>...</th>\n",
       "      <th>year_sold</th>\n",
       "      <th>sale_type</th>\n",
       "      <th>price</th>\n",
       "      <th>bathrooms</th>\n",
       "      <th>has_pool</th>\n",
       "      <th>has_fence</th>\n",
       "      <th>has_central_air</th>\n",
       "      <th>paved_street</th>\n",
       "      <th>has_garage</th>\n",
       "      <th>is_remodeled</th>\n",
       "    </tr>\n",
       "  </thead>\n",
       "  <tbody>\n",
       "    <tr>\n",
       "      <th>960</th>\n",
       "      <td>1499</td>\n",
       "      <td>908154235</td>\n",
       "      <td>60</td>\n",
       "      <td>RL</td>\n",
       "      <td>313.0</td>\n",
       "      <td>63887</td>\n",
       "      <td>IR3</td>\n",
       "      <td>Bnk</td>\n",
       "      <td>AllPub</td>\n",
       "      <td>Corner</td>\n",
       "      <td>...</td>\n",
       "      <td>2008</td>\n",
       "      <td>New</td>\n",
       "      <td>160000</td>\n",
       "      <td>4.5</td>\n",
       "      <td>1</td>\n",
       "      <td>0</td>\n",
       "      <td>1</td>\n",
       "      <td>1</td>\n",
       "      <td>1</td>\n",
       "      <td>0</td>\n",
       "    </tr>\n",
       "    <tr>\n",
       "      <th>1885</th>\n",
       "      <td>2181</td>\n",
       "      <td>908154195</td>\n",
       "      <td>20</td>\n",
       "      <td>RL</td>\n",
       "      <td>128.0</td>\n",
       "      <td>39290</td>\n",
       "      <td>IR1</td>\n",
       "      <td>Bnk</td>\n",
       "      <td>AllPub</td>\n",
       "      <td>Inside</td>\n",
       "      <td>...</td>\n",
       "      <td>2007</td>\n",
       "      <td>New</td>\n",
       "      <td>183850</td>\n",
       "      <td>4.0</td>\n",
       "      <td>0</td>\n",
       "      <td>0</td>\n",
       "      <td>1</td>\n",
       "      <td>1</td>\n",
       "      <td>1</td>\n",
       "      <td>1</td>\n",
       "    </tr>\n",
       "  </tbody>\n",
       "</table>\n",
       "<p>2 rows × 71 columns</p>\n",
       "</div>"
      ],
      "text/plain": [
       "        id  parcel_id  ms_sub_class zoning  lot_frontage  lot_area lot_shape  \\\n",
       "960   1499  908154235            60     RL         313.0     63887       IR3   \n",
       "1885  2181  908154195            20     RL         128.0     39290       IR1   \n",
       "\n",
       "     property_flatness utilities lot_config  ... year_sold sale_type   price  \\\n",
       "960                Bnk    AllPub     Corner  ...      2008       New  160000   \n",
       "1885               Bnk    AllPub     Inside  ...      2007       New  183850   \n",
       "\n",
       "     bathrooms has_pool has_fence  has_central_air  paved_street  has_garage  \\\n",
       "960        4.5        1         0                1             1           1   \n",
       "1885       4.0        0         0                1             1           1   \n",
       "\n",
       "     is_remodeled  \n",
       "960             0  \n",
       "1885            1  \n",
       "\n",
       "[2 rows x 71 columns]"
      ]
     },
     "execution_count": 45,
     "metadata": {},
     "output_type": "execute_result"
    }
   ],
   "source": [
    "train_data[train_data['total_basement_sqft'] >= 5000]"
   ]
  },
  {
   "cell_type": "code",
   "execution_count": 46,
   "id": "ec8944c1",
   "metadata": {
    "scrolled": true
   },
   "outputs": [],
   "source": [
    "train_data.drop(train_data[train_data['total_basement_sqft'] >= 5000].index,inplace=True)"
   ]
  },
  {
   "cell_type": "code",
   "execution_count": 47,
   "id": "acab9861",
   "metadata": {},
   "outputs": [],
   "source": [
    "train_data.reset_index(drop=True,inplace=True)"
   ]
  },
  {
   "cell_type": "code",
   "execution_count": 48,
   "id": "831632f3",
   "metadata": {},
   "outputs": [
    {
     "data": {
      "text/html": [
       "<div>\n",
       "<style scoped>\n",
       "    .dataframe tbody tr th:only-of-type {\n",
       "        vertical-align: middle;\n",
       "    }\n",
       "\n",
       "    .dataframe tbody tr th {\n",
       "        vertical-align: top;\n",
       "    }\n",
       "\n",
       "    .dataframe thead th {\n",
       "        text-align: right;\n",
       "    }\n",
       "</style>\n",
       "<table border=\"1\" class=\"dataframe\">\n",
       "  <thead>\n",
       "    <tr style=\"text-align: right;\">\n",
       "      <th></th>\n",
       "      <th>id</th>\n",
       "      <th>parcel_id</th>\n",
       "      <th>ms_sub_class</th>\n",
       "      <th>zoning</th>\n",
       "      <th>lot_frontage</th>\n",
       "      <th>lot_area</th>\n",
       "      <th>lot_shape</th>\n",
       "      <th>property_flatness</th>\n",
       "      <th>utilities</th>\n",
       "      <th>lot_config</th>\n",
       "      <th>...</th>\n",
       "      <th>year_sold</th>\n",
       "      <th>sale_type</th>\n",
       "      <th>price</th>\n",
       "      <th>bathrooms</th>\n",
       "      <th>has_pool</th>\n",
       "      <th>has_fence</th>\n",
       "      <th>has_central_air</th>\n",
       "      <th>paved_street</th>\n",
       "      <th>has_garage</th>\n",
       "      <th>is_remodeled</th>\n",
       "    </tr>\n",
       "  </thead>\n",
       "  <tbody>\n",
       "  </tbody>\n",
       "</table>\n",
       "<p>0 rows × 71 columns</p>\n",
       "</div>"
      ],
      "text/plain": [
       "Empty DataFrame\n",
       "Columns: [id, parcel_id, ms_sub_class, zoning, lot_frontage, lot_area, lot_shape, property_flatness, utilities, lot_config, land_slope, neighborhood, proximity_1, proximity_2, building_type, dwelling_style, house_quality_rating, house_condition_rating, year_built, roof_style, roof_material, exterior_1, exterior_2, masonry_type, masonry_area, exterior_quality, exterior_condition, foundation_type, basement_height, basement_condition, basement_exposure, basement_finished_condition, basement_multipletypes_condition, total_basement_sqft, heating_type, heating_quality, electrical_system, above_ground_living_area_sqft, bedrooms, kitchens, kitchen_quality, total_rooms(non-bath), home_functionality, fireplaces, fireplace_quality, garage_location, garage_year_built, garage_capacity, garage_sqft, garage_quality, garage_condition, driveway_type, wood_deck_sqft, open_porch_sf, enclosed_porch_sqft, three_season_porch_sqft, screen_porch_sqft, pool_size, misc_feature, misc_feature_value, month_sold, year_sold, sale_type, price, bathrooms, has_pool, has_fence, has_central_air, paved_street, has_garage, is_remodeled]\n",
       "Index: []\n",
       "\n",
       "[0 rows x 71 columns]"
      ]
     },
     "execution_count": 48,
     "metadata": {},
     "output_type": "execute_result"
    }
   ],
   "source": [
    "train_data[train_data['total_basement_sqft'] >= 5000]"
   ]
  },
  {
   "cell_type": "code",
   "execution_count": 49,
   "id": "16675686",
   "metadata": {
    "scrolled": false
   },
   "outputs": [
    {
     "data": {
      "text/html": [
       "<div>\n",
       "<style scoped>\n",
       "    .dataframe tbody tr th:only-of-type {\n",
       "        vertical-align: middle;\n",
       "    }\n",
       "\n",
       "    .dataframe tbody tr th {\n",
       "        vertical-align: top;\n",
       "    }\n",
       "\n",
       "    .dataframe thead th {\n",
       "        text-align: right;\n",
       "    }\n",
       "</style>\n",
       "<table border=\"1\" class=\"dataframe\">\n",
       "  <thead>\n",
       "    <tr style=\"text-align: right;\">\n",
       "      <th></th>\n",
       "      <th>id</th>\n",
       "      <th>parcel_id</th>\n",
       "      <th>ms_sub_class</th>\n",
       "      <th>zoning</th>\n",
       "      <th>lot_frontage</th>\n",
       "      <th>lot_area</th>\n",
       "      <th>lot_shape</th>\n",
       "      <th>property_flatness</th>\n",
       "      <th>utilities</th>\n",
       "      <th>lot_config</th>\n",
       "      <th>...</th>\n",
       "      <th>year_sold</th>\n",
       "      <th>sale_type</th>\n",
       "      <th>price</th>\n",
       "      <th>bathrooms</th>\n",
       "      <th>has_pool</th>\n",
       "      <th>has_fence</th>\n",
       "      <th>has_central_air</th>\n",
       "      <th>paved_street</th>\n",
       "      <th>has_garage</th>\n",
       "      <th>is_remodeled</th>\n",
       "    </tr>\n",
       "  </thead>\n",
       "  <tbody>\n",
       "    <tr>\n",
       "      <th>791</th>\n",
       "      <td>763</td>\n",
       "      <td>904301060</td>\n",
       "      <td>90</td>\n",
       "      <td>RL</td>\n",
       "      <td>60.0</td>\n",
       "      <td>10800</td>\n",
       "      <td>Reg</td>\n",
       "      <td>Lvl</td>\n",
       "      <td>AllPub</td>\n",
       "      <td>Inside</td>\n",
       "      <td>...</td>\n",
       "      <td>2009</td>\n",
       "      <td>WD</td>\n",
       "      <td>179000</td>\n",
       "      <td>6.0</td>\n",
       "      <td>0</td>\n",
       "      <td>0</td>\n",
       "      <td>1</td>\n",
       "      <td>1</td>\n",
       "      <td>0</td>\n",
       "      <td>1</td>\n",
       "    </tr>\n",
       "    <tr>\n",
       "      <th>1324</th>\n",
       "      <td>1487</td>\n",
       "      <td>908102040</td>\n",
       "      <td>90</td>\n",
       "      <td>RL</td>\n",
       "      <td>67.0</td>\n",
       "      <td>8777</td>\n",
       "      <td>Reg</td>\n",
       "      <td>Lvl</td>\n",
       "      <td>AllPub</td>\n",
       "      <td>Inside</td>\n",
       "      <td>...</td>\n",
       "      <td>2008</td>\n",
       "      <td>WD</td>\n",
       "      <td>145900</td>\n",
       "      <td>5.0</td>\n",
       "      <td>0</td>\n",
       "      <td>1</td>\n",
       "      <td>1</td>\n",
       "      <td>1</td>\n",
       "      <td>0</td>\n",
       "      <td>1</td>\n",
       "    </tr>\n",
       "    <tr>\n",
       "      <th>1565</th>\n",
       "      <td>816</td>\n",
       "      <td>906230010</td>\n",
       "      <td>90</td>\n",
       "      <td>RL</td>\n",
       "      <td>0.0</td>\n",
       "      <td>11855</td>\n",
       "      <td>Reg</td>\n",
       "      <td>Lvl</td>\n",
       "      <td>AllPub</td>\n",
       "      <td>Inside</td>\n",
       "      <td>...</td>\n",
       "      <td>2009</td>\n",
       "      <td>WD</td>\n",
       "      <td>269500</td>\n",
       "      <td>7.0</td>\n",
       "      <td>0</td>\n",
       "      <td>0</td>\n",
       "      <td>1</td>\n",
       "      <td>1</td>\n",
       "      <td>1</td>\n",
       "      <td>0</td>\n",
       "    </tr>\n",
       "    <tr>\n",
       "      <th>1583</th>\n",
       "      <td>764</td>\n",
       "      <td>904301070</td>\n",
       "      <td>90</td>\n",
       "      <td>RL</td>\n",
       "      <td>60.0</td>\n",
       "      <td>10800</td>\n",
       "      <td>Reg</td>\n",
       "      <td>Lvl</td>\n",
       "      <td>AllPub</td>\n",
       "      <td>Inside</td>\n",
       "      <td>...</td>\n",
       "      <td>2009</td>\n",
       "      <td>WD</td>\n",
       "      <td>179000</td>\n",
       "      <td>6.0</td>\n",
       "      <td>0</td>\n",
       "      <td>0</td>\n",
       "      <td>1</td>\n",
       "      <td>1</td>\n",
       "      <td>0</td>\n",
       "      <td>1</td>\n",
       "    </tr>\n",
       "    <tr>\n",
       "      <th>1604</th>\n",
       "      <td>817</td>\n",
       "      <td>906230020</td>\n",
       "      <td>90</td>\n",
       "      <td>RL</td>\n",
       "      <td>0.0</td>\n",
       "      <td>7939</td>\n",
       "      <td>Reg</td>\n",
       "      <td>Lvl</td>\n",
       "      <td>AllPub</td>\n",
       "      <td>Inside</td>\n",
       "      <td>...</td>\n",
       "      <td>2009</td>\n",
       "      <td>WD</td>\n",
       "      <td>269500</td>\n",
       "      <td>7.0</td>\n",
       "      <td>0</td>\n",
       "      <td>0</td>\n",
       "      <td>1</td>\n",
       "      <td>1</td>\n",
       "      <td>1</td>\n",
       "      <td>0</td>\n",
       "    </tr>\n",
       "  </tbody>\n",
       "</table>\n",
       "<p>5 rows × 71 columns</p>\n",
       "</div>"
      ],
      "text/plain": [
       "        id  parcel_id  ms_sub_class zoning  lot_frontage  lot_area lot_shape  \\\n",
       "791    763  904301060            90     RL          60.0     10800       Reg   \n",
       "1324  1487  908102040            90     RL          67.0      8777       Reg   \n",
       "1565   816  906230010            90     RL           0.0     11855       Reg   \n",
       "1583   764  904301070            90     RL          60.0     10800       Reg   \n",
       "1604   817  906230020            90     RL           0.0      7939       Reg   \n",
       "\n",
       "     property_flatness utilities lot_config  ... year_sold sale_type   price  \\\n",
       "791                Lvl    AllPub     Inside  ...      2009       WD   179000   \n",
       "1324               Lvl    AllPub     Inside  ...      2008       WD   145900   \n",
       "1565               Lvl    AllPub     Inside  ...      2009       WD   269500   \n",
       "1583               Lvl    AllPub     Inside  ...      2009       WD   179000   \n",
       "1604               Lvl    AllPub     Inside  ...      2009       WD   269500   \n",
       "\n",
       "     bathrooms has_pool has_fence  has_central_air  paved_street  has_garage  \\\n",
       "791        6.0        0         0                1             1           0   \n",
       "1324       5.0        0         1                1             1           0   \n",
       "1565       7.0        0         0                1             1           1   \n",
       "1583       6.0        0         0                1             1           0   \n",
       "1604       7.0        0         0                1             1           1   \n",
       "\n",
       "     is_remodeled  \n",
       "791             1  \n",
       "1324            1  \n",
       "1565            0  \n",
       "1583            1  \n",
       "1604            0  \n",
       "\n",
       "[5 rows x 71 columns]"
      ]
     },
     "execution_count": 49,
     "metadata": {},
     "output_type": "execute_result"
    }
   ],
   "source": [
    "train_data.loc[train_data['bathrooms'] >= 5]"
   ]
  },
  {
   "cell_type": "code",
   "execution_count": 50,
   "id": "d649d1a2",
   "metadata": {},
   "outputs": [],
   "source": [
    "train_data.drop(train_data[train_data['bathrooms'] >= 5].index,inplace=True)"
   ]
  },
  {
   "cell_type": "code",
   "execution_count": 51,
   "id": "777fc8a9",
   "metadata": {},
   "outputs": [],
   "source": [
    "train_data.reset_index(drop=True,inplace=True)"
   ]
  },
  {
   "cell_type": "code",
   "execution_count": 52,
   "id": "fc56a79c",
   "metadata": {},
   "outputs": [
    {
     "data": {
      "text/html": [
       "<div>\n",
       "<style scoped>\n",
       "    .dataframe tbody tr th:only-of-type {\n",
       "        vertical-align: middle;\n",
       "    }\n",
       "\n",
       "    .dataframe tbody tr th {\n",
       "        vertical-align: top;\n",
       "    }\n",
       "\n",
       "    .dataframe thead th {\n",
       "        text-align: right;\n",
       "    }\n",
       "</style>\n",
       "<table border=\"1\" class=\"dataframe\">\n",
       "  <thead>\n",
       "    <tr style=\"text-align: right;\">\n",
       "      <th></th>\n",
       "      <th>id</th>\n",
       "      <th>parcel_id</th>\n",
       "      <th>ms_sub_class</th>\n",
       "      <th>zoning</th>\n",
       "      <th>lot_frontage</th>\n",
       "      <th>lot_area</th>\n",
       "      <th>lot_shape</th>\n",
       "      <th>property_flatness</th>\n",
       "      <th>utilities</th>\n",
       "      <th>lot_config</th>\n",
       "      <th>...</th>\n",
       "      <th>year_sold</th>\n",
       "      <th>sale_type</th>\n",
       "      <th>price</th>\n",
       "      <th>bathrooms</th>\n",
       "      <th>has_pool</th>\n",
       "      <th>has_fence</th>\n",
       "      <th>has_central_air</th>\n",
       "      <th>paved_street</th>\n",
       "      <th>has_garage</th>\n",
       "      <th>is_remodeled</th>\n",
       "    </tr>\n",
       "  </thead>\n",
       "  <tbody>\n",
       "    <tr>\n",
       "      <th>1406</th>\n",
       "      <td>1850</td>\n",
       "      <td>533241030</td>\n",
       "      <td>60</td>\n",
       "      <td>FV</td>\n",
       "      <td>66.0</td>\n",
       "      <td>7399</td>\n",
       "      <td>IR1</td>\n",
       "      <td>Lvl</td>\n",
       "      <td>AllPub</td>\n",
       "      <td>Inside</td>\n",
       "      <td>...</td>\n",
       "      <td>2007</td>\n",
       "      <td>WD</td>\n",
       "      <td>239000</td>\n",
       "      <td>2.5</td>\n",
       "      <td>0</td>\n",
       "      <td>0</td>\n",
       "      <td>1</td>\n",
       "      <td>1</td>\n",
       "      <td>1</td>\n",
       "      <td>1</td>\n",
       "    </tr>\n",
       "  </tbody>\n",
       "</table>\n",
       "<p>1 rows × 71 columns</p>\n",
       "</div>"
      ],
      "text/plain": [
       "        id  parcel_id  ms_sub_class zoning  lot_frontage  lot_area lot_shape  \\\n",
       "1406  1850  533241030            60     FV          66.0      7399       IR1   \n",
       "\n",
       "     property_flatness utilities lot_config  ... year_sold sale_type   price  \\\n",
       "1406               Lvl    AllPub     Inside  ...      2007       WD   239000   \n",
       "\n",
       "     bathrooms has_pool has_fence  has_central_air  paved_street  has_garage  \\\n",
       "1406       2.5        0         0                1             1           1   \n",
       "\n",
       "     is_remodeled  \n",
       "1406            1  \n",
       "\n",
       "[1 rows x 71 columns]"
      ]
     },
     "execution_count": 52,
     "metadata": {},
     "output_type": "execute_result"
    }
   ],
   "source": [
    "train_data.loc[train_data['masonry_area'] >= 1600]"
   ]
  },
  {
   "cell_type": "code",
   "execution_count": 53,
   "id": "460ae93e",
   "metadata": {},
   "outputs": [],
   "source": [
    "train_data.drop(train_data[train_data['masonry_area'] >= 1600].index,inplace=True)"
   ]
  },
  {
   "cell_type": "code",
   "execution_count": 54,
   "id": "a57c0e6f",
   "metadata": {},
   "outputs": [],
   "source": [
    "train_data.reset_index(drop=True,inplace=True)"
   ]
  },
  {
   "cell_type": "code",
   "execution_count": 55,
   "id": "f7931e2c",
   "metadata": {},
   "outputs": [
    {
     "data": {
      "text/html": [
       "<div>\n",
       "<style scoped>\n",
       "    .dataframe tbody tr th:only-of-type {\n",
       "        vertical-align: middle;\n",
       "    }\n",
       "\n",
       "    .dataframe tbody tr th {\n",
       "        vertical-align: top;\n",
       "    }\n",
       "\n",
       "    .dataframe thead th {\n",
       "        text-align: right;\n",
       "    }\n",
       "</style>\n",
       "<table border=\"1\" class=\"dataframe\">\n",
       "  <thead>\n",
       "    <tr style=\"text-align: right;\">\n",
       "      <th></th>\n",
       "      <th>id</th>\n",
       "      <th>parcel_id</th>\n",
       "      <th>ms_sub_class</th>\n",
       "      <th>zoning</th>\n",
       "      <th>lot_frontage</th>\n",
       "      <th>lot_area</th>\n",
       "      <th>lot_shape</th>\n",
       "      <th>property_flatness</th>\n",
       "      <th>utilities</th>\n",
       "      <th>lot_config</th>\n",
       "      <th>...</th>\n",
       "      <th>year_sold</th>\n",
       "      <th>sale_type</th>\n",
       "      <th>price</th>\n",
       "      <th>bathrooms</th>\n",
       "      <th>has_pool</th>\n",
       "      <th>has_fence</th>\n",
       "      <th>has_central_air</th>\n",
       "      <th>paved_street</th>\n",
       "      <th>has_garage</th>\n",
       "      <th>is_remodeled</th>\n",
       "    </tr>\n",
       "  </thead>\n",
       "  <tbody>\n",
       "    <tr>\n",
       "      <th>924</th>\n",
       "      <td>747</td>\n",
       "      <td>903236040</td>\n",
       "      <td>30</td>\n",
       "      <td>RM</td>\n",
       "      <td>50.0</td>\n",
       "      <td>8635</td>\n",
       "      <td>Reg</td>\n",
       "      <td>Lvl</td>\n",
       "      <td>AllPub</td>\n",
       "      <td>Inside</td>\n",
       "      <td>...</td>\n",
       "      <td>2009</td>\n",
       "      <td>WD</td>\n",
       "      <td>126500</td>\n",
       "      <td>2.0</td>\n",
       "      <td>0</td>\n",
       "      <td>0</td>\n",
       "      <td>1</td>\n",
       "      <td>1</td>\n",
       "      <td>1</td>\n",
       "      <td>1</td>\n",
       "    </tr>\n",
       "  </tbody>\n",
       "</table>\n",
       "<p>1 rows × 71 columns</p>\n",
       "</div>"
      ],
      "text/plain": [
       "      id  parcel_id  ms_sub_class zoning  lot_frontage  lot_area lot_shape  \\\n",
       "924  747  903236040            30     RM          50.0      8635       Reg   \n",
       "\n",
       "    property_flatness utilities lot_config  ... year_sold sale_type   price  \\\n",
       "924               Lvl    AllPub     Inside  ...      2009       WD   126500   \n",
       "\n",
       "    bathrooms has_pool has_fence  has_central_air  paved_street  has_garage  \\\n",
       "924       2.0        0         0                1             1           1   \n",
       "\n",
       "    is_remodeled  \n",
       "924            1  \n",
       "\n",
       "[1 rows x 71 columns]"
      ]
     },
     "execution_count": 55,
     "metadata": {},
     "output_type": "execute_result"
    }
   ],
   "source": [
    "train_data.loc[train_data['garage_capacity'] > 4]"
   ]
  },
  {
   "cell_type": "code",
   "execution_count": 56,
   "id": "5bb5a950",
   "metadata": {},
   "outputs": [],
   "source": [
    "train_data.drop(train_data[train_data['garage_capacity'] > 4].index,inplace=True)"
   ]
  },
  {
   "cell_type": "code",
   "execution_count": 57,
   "id": "bc78ba42",
   "metadata": {},
   "outputs": [],
   "source": [
    "train_data.reset_index(drop=True,inplace=True)"
   ]
  },
  {
   "cell_type": "code",
   "execution_count": 58,
   "id": "c7b898ac",
   "metadata": {
    "scrolled": false
   },
   "outputs": [
    {
     "data": {
      "text/plain": [
       "(878, 70)"
      ]
     },
     "execution_count": 58,
     "metadata": {},
     "output_type": "execute_result"
    }
   ],
   "source": [
    "test_data.shape"
   ]
  },
  {
   "cell_type": "code",
   "execution_count": 59,
   "id": "07411332",
   "metadata": {
    "scrolled": true
   },
   "outputs": [
    {
     "data": {
      "text/plain": [
       "(2042, 71)"
      ]
     },
     "execution_count": 59,
     "metadata": {},
     "output_type": "execute_result"
    }
   ],
   "source": [
    "train_data.shape"
   ]
  },
  {
   "cell_type": "markdown",
   "id": "44af86a0",
   "metadata": {},
   "source": [
    "## EDA"
   ]
  },
  {
   "cell_type": "markdown",
   "id": "9726075b",
   "metadata": {},
   "source": [
    "### Descriptive Statistics"
   ]
  },
  {
   "cell_type": "code",
   "execution_count": 60,
   "id": "18d9745c",
   "metadata": {
    "scrolled": true
   },
   "outputs": [
    {
     "data": {
      "text/html": [
       "<div>\n",
       "<style scoped>\n",
       "    .dataframe tbody tr th:only-of-type {\n",
       "        vertical-align: middle;\n",
       "    }\n",
       "\n",
       "    .dataframe tbody tr th {\n",
       "        vertical-align: top;\n",
       "    }\n",
       "\n",
       "    .dataframe thead th {\n",
       "        text-align: right;\n",
       "    }\n",
       "</style>\n",
       "<table border=\"1\" class=\"dataframe\">\n",
       "  <thead>\n",
       "    <tr style=\"text-align: right;\">\n",
       "      <th></th>\n",
       "      <th>count</th>\n",
       "      <th>mean</th>\n",
       "      <th>std</th>\n",
       "      <th>min</th>\n",
       "      <th>25%</th>\n",
       "      <th>50%</th>\n",
       "      <th>75%</th>\n",
       "      <th>max</th>\n",
       "    </tr>\n",
       "  </thead>\n",
       "  <tbody>\n",
       "    <tr>\n",
       "      <th>id</th>\n",
       "      <td>2042.0</td>\n",
       "      <td>1.475181e+03</td>\n",
       "      <td>8.449565e+02</td>\n",
       "      <td>1.0</td>\n",
       "      <td>7.522500e+02</td>\n",
       "      <td>1487.0</td>\n",
       "      <td>2.200750e+03</td>\n",
       "      <td>2930.0</td>\n",
       "    </tr>\n",
       "    <tr>\n",
       "      <th>parcel_id</th>\n",
       "      <td>2042.0</td>\n",
       "      <td>7.129242e+08</td>\n",
       "      <td>1.886796e+08</td>\n",
       "      <td>526301100.0</td>\n",
       "      <td>5.284581e+08</td>\n",
       "      <td>535453085.0</td>\n",
       "      <td>9.071790e+08</td>\n",
       "      <td>924152030.0</td>\n",
       "    </tr>\n",
       "    <tr>\n",
       "      <th>ms_sub_class</th>\n",
       "      <td>2042.0</td>\n",
       "      <td>5.695642e+01</td>\n",
       "      <td>4.287534e+01</td>\n",
       "      <td>20.0</td>\n",
       "      <td>2.000000e+01</td>\n",
       "      <td>50.0</td>\n",
       "      <td>7.000000e+01</td>\n",
       "      <td>190.0</td>\n",
       "    </tr>\n",
       "    <tr>\n",
       "      <th>lot_frontage</th>\n",
       "      <td>2042.0</td>\n",
       "      <td>5.783546e+01</td>\n",
       "      <td>3.263798e+01</td>\n",
       "      <td>0.0</td>\n",
       "      <td>4.325000e+01</td>\n",
       "      <td>63.0</td>\n",
       "      <td>7.800000e+01</td>\n",
       "      <td>313.0</td>\n",
       "    </tr>\n",
       "    <tr>\n",
       "      <th>lot_area</th>\n",
       "      <td>2042.0</td>\n",
       "      <td>1.002662e+04</td>\n",
       "      <td>6.619121e+03</td>\n",
       "      <td>1300.0</td>\n",
       "      <td>7.500000e+03</td>\n",
       "      <td>9417.5</td>\n",
       "      <td>1.150900e+04</td>\n",
       "      <td>159000.0</td>\n",
       "    </tr>\n",
       "    <tr>\n",
       "      <th>house_quality_rating</th>\n",
       "      <td>2042.0</td>\n",
       "      <td>6.109207e+00</td>\n",
       "      <td>1.422960e+00</td>\n",
       "      <td>1.0</td>\n",
       "      <td>5.000000e+00</td>\n",
       "      <td>6.0</td>\n",
       "      <td>7.000000e+00</td>\n",
       "      <td>10.0</td>\n",
       "    </tr>\n",
       "    <tr>\n",
       "      <th>house_condition_rating</th>\n",
       "      <td>2042.0</td>\n",
       "      <td>5.563663e+00</td>\n",
       "      <td>1.105911e+00</td>\n",
       "      <td>1.0</td>\n",
       "      <td>5.000000e+00</td>\n",
       "      <td>5.0</td>\n",
       "      <td>6.000000e+00</td>\n",
       "      <td>9.0</td>\n",
       "    </tr>\n",
       "    <tr>\n",
       "      <th>year_built</th>\n",
       "      <td>2042.0</td>\n",
       "      <td>1.971676e+03</td>\n",
       "      <td>3.014157e+01</td>\n",
       "      <td>1872.0</td>\n",
       "      <td>1.953250e+03</td>\n",
       "      <td>1974.0</td>\n",
       "      <td>2.001000e+03</td>\n",
       "      <td>2010.0</td>\n",
       "    </tr>\n",
       "    <tr>\n",
       "      <th>masonry_area</th>\n",
       "      <td>2042.0</td>\n",
       "      <td>9.726592e+01</td>\n",
       "      <td>1.689182e+02</td>\n",
       "      <td>0.0</td>\n",
       "      <td>0.000000e+00</td>\n",
       "      <td>0.0</td>\n",
       "      <td>1.580000e+02</td>\n",
       "      <td>1129.0</td>\n",
       "    </tr>\n",
       "    <tr>\n",
       "      <th>total_basement_sqft</th>\n",
       "      <td>2042.0</td>\n",
       "      <td>1.052701e+03</td>\n",
       "      <td>4.274745e+02</td>\n",
       "      <td>0.0</td>\n",
       "      <td>7.922500e+02</td>\n",
       "      <td>992.0</td>\n",
       "      <td>1.318750e+03</td>\n",
       "      <td>3206.0</td>\n",
       "    </tr>\n",
       "  </tbody>\n",
       "</table>\n",
       "</div>"
      ],
      "text/plain": [
       "                         count          mean           std          min  \\\n",
       "id                      2042.0  1.475181e+03  8.449565e+02          1.0   \n",
       "parcel_id               2042.0  7.129242e+08  1.886796e+08  526301100.0   \n",
       "ms_sub_class            2042.0  5.695642e+01  4.287534e+01         20.0   \n",
       "lot_frontage            2042.0  5.783546e+01  3.263798e+01          0.0   \n",
       "lot_area                2042.0  1.002662e+04  6.619121e+03       1300.0   \n",
       "house_quality_rating    2042.0  6.109207e+00  1.422960e+00          1.0   \n",
       "house_condition_rating  2042.0  5.563663e+00  1.105911e+00          1.0   \n",
       "year_built              2042.0  1.971676e+03  3.014157e+01       1872.0   \n",
       "masonry_area            2042.0  9.726592e+01  1.689182e+02          0.0   \n",
       "total_basement_sqft     2042.0  1.052701e+03  4.274745e+02          0.0   \n",
       "\n",
       "                                 25%          50%           75%          max  \n",
       "id                      7.522500e+02       1487.0  2.200750e+03       2930.0  \n",
       "parcel_id               5.284581e+08  535453085.0  9.071790e+08  924152030.0  \n",
       "ms_sub_class            2.000000e+01         50.0  7.000000e+01        190.0  \n",
       "lot_frontage            4.325000e+01         63.0  7.800000e+01        313.0  \n",
       "lot_area                7.500000e+03       9417.5  1.150900e+04     159000.0  \n",
       "house_quality_rating    5.000000e+00          6.0  7.000000e+00         10.0  \n",
       "house_condition_rating  5.000000e+00          5.0  6.000000e+00          9.0  \n",
       "year_built              1.953250e+03       1974.0  2.001000e+03       2010.0  \n",
       "masonry_area            0.000000e+00          0.0  1.580000e+02       1129.0  \n",
       "total_basement_sqft     7.922500e+02        992.0  1.318750e+03       3206.0  "
      ]
     },
     "execution_count": 60,
     "metadata": {},
     "output_type": "execute_result"
    }
   ],
   "source": [
    "train_data.describe().T.head(10)"
   ]
  },
  {
   "cell_type": "code",
   "execution_count": 61,
   "id": "ab08a380",
   "metadata": {},
   "outputs": [
    {
     "data": {
      "text/plain": [
       "count      2042.000000\n",
       "mean     181411.414300\n",
       "std       79360.457792\n",
       "min       12789.000000\n",
       "25%      129575.000000\n",
       "50%      162250.000000\n",
       "75%      214000.000000\n",
       "max      611657.000000\n",
       "Name: price, dtype: float64"
      ]
     },
     "execution_count": 61,
     "metadata": {},
     "output_type": "execute_result"
    }
   ],
   "source": [
    "train_data['price'].describe()"
   ]
  },
  {
   "cell_type": "markdown",
   "id": "d540b2e2",
   "metadata": {},
   "source": [
    "## Data Visualization"
   ]
  },
  {
   "cell_type": "code",
   "execution_count": 62,
   "id": "d214c2b7",
   "metadata": {},
   "outputs": [
    {
     "data": {
      "image/png": "[encoded data removed]",
      "text/plain": [
       "<Figure size 576x360 with 1 Axes>"
      ]
     },
     "metadata": {
      "needs_background": "light"
     },
     "output_type": "display_data"
    }
   ],
   "source": [
    "plt.figure(figsize=(8,5))\n",
    "plt.hist(train_data[['price']])\n",
    "plt.title('Sale Price distribution')\n",
    "plt.xlabel('Sale Price');"
   ]
  },
  {
   "cell_type": "code",
   "execution_count": 63,
   "id": "b3a01553",
   "metadata": {
    "scrolled": false
   },
   "outputs": [
    {
     "name": "stderr",
     "output_type": "stream",
     "text": [
      "/Users/yash/opt/anaconda3/lib/python3.8/site-packages/seaborn/_decorators.py:36: FutureWarning: Pass the following variables as keyword args: x, y. From version 0.12, the only valid positional argument will be `data`, and passing other arguments without an explicit keyword will result in an error or misinterpretation.\n",
      "  warnings.warn(\n"
     ]
    },
    {
     "data": {
      "image/png": "[encoded data removed]",
      "text/plain": [
       "<Figure size 720x576 with 1 Axes>"
      ]
     },
     "metadata": {
      "needs_background": "light"
     },
     "output_type": "display_data"
    }
   ],
   "source": [
    "predictors = train_data.corr()[['price']].sort_values(by='price', ascending=False)\n",
    "corr_df = pd.DataFrame(predictors.iloc[1:11])\n",
    "\n",
    "plt.figure(figsize=(10, 8))\n",
    "sns.barplot( corr_df['price'], corr_df.index)\n",
    "plt.title('Top 10 Predictors of Sale Price')\n",
    "plt.xlabel('Correlation with Price', fontsize=10);\n",
    "plt.ylabel('features', fontsize=10);"
   ]
  },
  {
   "cell_type": "code",
   "execution_count": 64,
   "id": "26fc4df9",
   "metadata": {},
   "outputs": [
    {
     "data": {
      "text/plain": [
       "Text(0.5, 1.0, 'House Quality Rating vs Sale Price')"
      ]
     },
     "execution_count": 64,
     "metadata": {},
     "output_type": "execute_result"
    },
    {
     "data": {
      "image/png": "[encoded data removed]",
      "text/plain": [
       "<Figure size 720x576 with 1 Axes>"
      ]
     },
     "metadata": {
      "needs_background": "light"
     },
     "output_type": "display_data"
    }
   ],
   "source": [
    "plt.figure(figsize=(10, 8))\n",
    "sns.scatterplot(x='price', y='house_quality_rating', data=train_data)\n",
    "plt.title('House Quality Rating vs Sale Price', fontsize=20)"
   ]
  },
  {
   "cell_type": "code",
   "execution_count": 65,
   "id": "9aa28328",
   "metadata": {},
   "outputs": [
    {
     "data": {
      "text/plain": [
       "Text(0.5, 1.0, 'Above Ground Living Area Square Footage vs Sale Price')"
      ]
     },
     "execution_count": 65,
     "metadata": {},
     "output_type": "execute_result"
    },
    {
     "data": {
      "image/png": "[encoded data removed]",
      "text/plain": [
       "<Figure size 720x576 with 1 Axes>"
      ]
     },
     "metadata": {
      "needs_background": "light"
     },
     "output_type": "display_data"
    }
   ],
   "source": [
    "plt.figure(figsize=(10, 8))\n",
    "sns.scatterplot(x='price', y='above_ground_living_area_sqft', data=train_data)\n",
    "plt.title('Above Ground Living Area Square Footage vs Sale Price', fontsize=20)"
   ]
  },
  {
   "cell_type": "code",
   "execution_count": 66,
   "id": "e818453e",
   "metadata": {},
   "outputs": [
    {
     "data": {
      "text/plain": [
       "Text(0.5, 1.0, 'Total Basement Square Footage vs Sale Price')"
      ]
     },
     "execution_count": 66,
     "metadata": {},
     "output_type": "execute_result"
    },
    {
     "data": {
      "image/png": "[encoded data removed]",
      "text/plain": [
       "<Figure size 720x576 with 1 Axes>"
      ]
     },
     "metadata": {
      "needs_background": "light"
     },
     "output_type": "display_data"
    }
   ],
   "source": [
    "plt.figure(figsize=(10, 8))\n",
    "sns.scatterplot(x='price', y='total_basement_sqft', data=train_data)\n",
    "plt.title('Total Basement Square Footage vs Sale Price', fontsize=20)"
   ]
  },
  {
   "cell_type": "markdown",
   "id": "46a25ab8",
   "metadata": {},
   "source": [
    "## Data Modeling"
   ]
  },
  {
   "cell_type": "code",
   "execution_count": 67,
   "id": "4b0a4a09",
   "metadata": {},
   "outputs": [],
   "source": [
    "features = ['house_quality_rating', 'above_ground_living_area_sqft', 'garage_sqft','garage_capacity','bathrooms',\n",
    "            'total_basement_sqft','year_built','total_rooms(non-bath)','masonry_area',\n",
    "            'fireplaces']\n",
    "X=train_data[features]\n",
    "y=train_data['price']"
   ]
  },
  {
   "cell_type": "code",
   "execution_count": 68,
   "id": "462a2bc6",
   "metadata": {},
   "outputs": [],
   "source": [
    "X_testdata=test_data[features]"
   ]
  },
  {
   "cell_type": "markdown",
   "id": "593b9b6f",
   "metadata": {},
   "source": [
    "### Polynomial Features"
   ]
  },
  {
   "cell_type": "code",
   "execution_count": 69,
   "id": "64e2117f",
   "metadata": {},
   "outputs": [],
   "source": [
    "# Instantiate PolynomialFeatures\n",
    "poly = PolynomialFeatures(include_bias=False)"
   ]
  },
  {
   "cell_type": "code",
   "execution_count": 70,
   "id": "73a0bf50",
   "metadata": {},
   "outputs": [
    {
     "data": {
      "text/plain": [
       "PolynomialFeatures(include_bias=False)"
      ]
     },
     "execution_count": 70,
     "metadata": {},
     "output_type": "execute_result"
    }
   ],
   "source": [
    "poly"
   ]
  },
  {
   "cell_type": "code",
   "execution_count": 71,
   "id": "7e362f0e",
   "metadata": {},
   "outputs": [],
   "source": [
    "# Create X_poly\n",
    "X_poly = poly.fit_transform(X)"
   ]
  },
  {
   "cell_type": "code",
   "execution_count": 72,
   "id": "02f805e9",
   "metadata": {
    "scrolled": false
   },
   "outputs": [
    {
     "data": {
      "text/plain": [
       "array([[6.0000e+00, 1.4790e+03, 4.7500e+02, ..., 8.3521e+04, 0.0000e+00,\n",
       "        0.0000e+00],\n",
       "       [7.0000e+00, 2.1220e+03, 5.5900e+02, ..., 1.7424e+04, 1.3200e+02,\n",
       "        1.0000e+00],\n",
       "       [5.0000e+00, 1.0570e+03, 2.4600e+02, ..., 0.0000e+00, 0.0000e+00,\n",
       "        0.0000e+00],\n",
       "       ...,\n",
       "       [6.0000e+00, 1.9130e+03, 3.4200e+02, ..., 0.0000e+00, 0.0000e+00,\n",
       "        1.0000e+00],\n",
       "       [4.0000e+00, 1.2000e+03, 2.9400e+02, ..., 0.0000e+00, 0.0000e+00,\n",
       "        4.0000e+00],\n",
       "       [7.0000e+00, 1.8040e+03, 4.4200e+02, ..., 0.0000e+00, 0.0000e+00,\n",
       "        1.0000e+00]])"
      ]
     },
     "execution_count": 72,
     "metadata": {},
     "output_type": "execute_result"
    }
   ],
   "source": [
    "# X_poly is a numpy array with the original AND new columns!\n",
    "X_poly"
   ]
  },
  {
   "cell_type": "code",
   "execution_count": 73,
   "id": "659cdf3f",
   "metadata": {},
   "outputs": [],
   "source": [
    "X_testdata_poly=poly.fit_transform(X_testdata)"
   ]
  },
  {
   "cell_type": "code",
   "execution_count": 74,
   "id": "632cba4d",
   "metadata": {},
   "outputs": [
    {
     "data": {
      "text/plain": [
       "['house_quality_rating',\n",
       " 'above_ground_living_area_sqft',\n",
       " 'garage_sqft',\n",
       " 'garage_capacity',\n",
       " 'bathrooms',\n",
       " 'total_basement_sqft',\n",
       " 'year_built',\n",
       " 'total_rooms(non-bath)',\n",
       " 'masonry_area',\n",
       " 'fireplaces',\n",
       " 'house_quality_rating^2',\n",
       " 'house_quality_rating above_ground_living_area_sqft',\n",
       " 'house_quality_rating garage_sqft',\n",
       " 'house_quality_rating garage_capacity',\n",
       " 'house_quality_rating bathrooms',\n",
       " 'house_quality_rating total_basement_sqft',\n",
       " 'house_quality_rating year_built',\n",
       " 'house_quality_rating total_rooms(non-bath)',\n",
       " 'house_quality_rating masonry_area',\n",
       " 'house_quality_rating fireplaces',\n",
       " 'above_ground_living_area_sqft^2',\n",
       " 'above_ground_living_area_sqft garage_sqft',\n",
       " 'above_ground_living_area_sqft garage_capacity',\n",
       " 'above_ground_living_area_sqft bathrooms',\n",
       " 'above_ground_living_area_sqft total_basement_sqft',\n",
       " 'above_ground_living_area_sqft year_built',\n",
       " 'above_ground_living_area_sqft total_rooms(non-bath)',\n",
       " 'above_ground_living_area_sqft masonry_area',\n",
       " 'above_ground_living_area_sqft fireplaces',\n",
       " 'garage_sqft^2',\n",
       " 'garage_sqft garage_capacity',\n",
       " 'garage_sqft bathrooms',\n",
       " 'garage_sqft total_basement_sqft',\n",
       " 'garage_sqft year_built',\n",
       " 'garage_sqft total_rooms(non-bath)',\n",
       " 'garage_sqft masonry_area',\n",
       " 'garage_sqft fireplaces',\n",
       " 'garage_capacity^2',\n",
       " 'garage_capacity bathrooms',\n",
       " 'garage_capacity total_basement_sqft',\n",
       " 'garage_capacity year_built',\n",
       " 'garage_capacity total_rooms(non-bath)',\n",
       " 'garage_capacity masonry_area',\n",
       " 'garage_capacity fireplaces',\n",
       " 'bathrooms^2',\n",
       " 'bathrooms total_basement_sqft',\n",
       " 'bathrooms year_built',\n",
       " 'bathrooms total_rooms(non-bath)',\n",
       " 'bathrooms masonry_area',\n",
       " 'bathrooms fireplaces',\n",
       " 'total_basement_sqft^2',\n",
       " 'total_basement_sqft year_built',\n",
       " 'total_basement_sqft total_rooms(non-bath)',\n",
       " 'total_basement_sqft masonry_area',\n",
       " 'total_basement_sqft fireplaces',\n",
       " 'year_built^2',\n",
       " 'year_built total_rooms(non-bath)',\n",
       " 'year_built masonry_area',\n",
       " 'year_built fireplaces',\n",
       " 'total_rooms(non-bath)^2',\n",
       " 'total_rooms(non-bath) masonry_area',\n",
       " 'total_rooms(non-bath) fireplaces',\n",
       " 'masonry_area^2',\n",
       " 'masonry_area fireplaces',\n",
       " 'fireplaces^2']"
      ]
     },
     "execution_count": 74,
     "metadata": {},
     "output_type": "execute_result"
    }
   ],
   "source": [
    "# Get the feature names using \"get_feature_names\"\n",
    "poly.get_feature_names(features)"
   ]
  },
  {
   "cell_type": "code",
   "execution_count": 75,
   "id": "d61dc95b",
   "metadata": {},
   "outputs": [],
   "source": [
    "# View X_poly in a DataFrame\n",
    "X_poly_df=pd.DataFrame(X_poly, columns=poly.get_feature_names(features))"
   ]
  },
  {
   "cell_type": "code",
   "execution_count": 76,
   "id": "6ceb985f",
   "metadata": {},
   "outputs": [],
   "source": [
    "X_testdata_poly_df=pd.DataFrame(X_testdata_poly, columns=poly.get_feature_names(features))"
   ]
  },
  {
   "cell_type": "markdown",
   "id": "9b47c410",
   "metadata": {},
   "source": [
    "### Train Test Split"
   ]
  },
  {
   "cell_type": "code",
   "execution_count": 77,
   "id": "54872154",
   "metadata": {},
   "outputs": [],
   "source": [
    "X_train, X_test, y_train, y_test = train_test_split(X_poly, y, random_state=42)"
   ]
  },
  {
   "cell_type": "code",
   "execution_count": 78,
   "id": "c61854e5",
   "metadata": {},
   "outputs": [
    {
     "name": "stdout",
     "output_type": "stream",
     "text": [
      "(1531, 65)\n",
      "(511, 65)\n",
      "(1531,)\n",
      "(511,)\n"
     ]
    }
   ],
   "source": [
    "# Get the shapes of training and testing data\n",
    "print(X_train.shape)\n",
    "print(X_test.shape)\n",
    "print(y_train.shape)\n",
    "print(y_test.shape)"
   ]
  },
  {
   "cell_type": "markdown",
   "id": "289f10ec",
   "metadata": {},
   "source": [
    "### Scaling the data"
   ]
  },
  {
   "cell_type": "code",
   "execution_count": 79,
   "id": "5d1a18be",
   "metadata": {},
   "outputs": [],
   "source": [
    "sc = StandardScaler()\n",
    "Z_train = sc.fit_transform(X_train)\n",
    "Z_test = sc.transform(X_test)\n",
    "test_data_sc=sc.transform(X_testdata_poly_df)"
   ]
  },
  {
   "cell_type": "code",
   "execution_count": 80,
   "id": "a7094b7e",
   "metadata": {},
   "outputs": [
    {
     "name": "stdout",
     "output_type": "stream",
     "text": [
      "Z_train shape is: (1531, 65)\n",
      "y_train shape is: (1531,)\n",
      "Z_test shape is: (511, 65)\n",
      "y_test shape is: (511,)\n"
     ]
    }
   ],
   "source": [
    "print(f'Z_train shape is: {Z_train.shape}')\n",
    "print(f'y_train shape is: {y_train.shape}')\n",
    "print(f'Z_test shape is: {Z_test.shape}')\n",
    "print(f'y_test shape is: {y_test.shape}')"
   ]
  },
  {
   "cell_type": "markdown",
   "id": "f1e05898",
   "metadata": {},
   "source": [
    "### Linear Regression"
   ]
  },
  {
   "cell_type": "code",
   "execution_count": 81,
   "id": "b2bef5f5",
   "metadata": {},
   "outputs": [
    {
     "data": {
      "text/plain": [
       "LinearRegression()"
      ]
     },
     "execution_count": 81,
     "metadata": {},
     "output_type": "execute_result"
    }
   ],
   "source": [
    "ols = LinearRegression()\n",
    "ols.fit(Z_train, y_train)"
   ]
  },
  {
   "cell_type": "code",
   "execution_count": 82,
   "id": "b98e91df",
   "metadata": {
    "scrolled": true
   },
   "outputs": [
    {
     "name": "stdout",
     "output_type": "stream",
     "text": [
      "====== OLS =======\n",
      "0.903687683067107\n",
      "0.8831149537762257\n",
      "\n"
     ]
    }
   ],
   "source": [
    "print(\" OLS \".center(18, \"=\"))\n",
    "print(ols.score(Z_train, y_train))\n",
    "print(ols.score(Z_test, y_test))\n",
    "print()"
   ]
  },
  {
   "cell_type": "code",
   "execution_count": 83,
   "id": "c0af5535",
   "metadata": {},
   "outputs": [
    {
     "data": {
      "text/plain": [
       "181819.83082952327"
      ]
     },
     "execution_count": 83,
     "metadata": {},
     "output_type": "execute_result"
    }
   ],
   "source": [
    "ols.intercept_"
   ]
  },
  {
   "cell_type": "code",
   "execution_count": 84,
   "id": "7200a167",
   "metadata": {},
   "outputs": [
    {
     "data": {
      "text/plain": [
       "array([ 122239.71507083,  -67082.44062647, -151413.1748717 ,\n",
       "        119539.4162611 , -196447.95219046, -110772.26996498,\n",
       "        -60366.28152953,  -17288.72730817, -244553.54558689,\n",
       "        171090.55825937,  -13511.27799104,   34577.15505723,\n",
       "         24407.1582839 ,  -11995.89785994,    3229.35784051,\n",
       "         44077.35512083, -142107.79576143,   14841.04883531,\n",
       "         -1892.58399506,   11331.39605178,   32386.90204813,\n",
       "        -24622.84856906,    6196.59973396,   33417.29582177,\n",
       "         -8575.15308825,   72428.60664464,  -68632.02159282,\n",
       "        -26609.86802742,   14929.59469226,   -7180.27323814,\n",
       "         28924.3004935 ,   -2202.92044231,    5025.72444792,\n",
       "        149340.73609116,    2667.21081738,   -5317.30370624,\n",
       "         -4090.83827573,  -24725.92005665,    6416.89123001,\n",
       "         -7476.28718926, -121620.82934853,   15333.91064283,\n",
       "         12031.28802669,    9848.82960849,   -8690.15232295,\n",
       "         12905.33693287,  199623.86488234,  -15087.76805992,\n",
       "         10621.06992536,  -13378.39919422,  -10343.42845047,\n",
       "        102891.75712826,    -950.3714756 ,    8200.11624126,\n",
       "          6771.66227424,   65503.77451586,     525.35383377,\n",
       "        226117.31767536, -168106.92594835,   38838.26401974,\n",
       "         28508.05500327,  -17312.73096014,   -3844.56695371,\n",
       "           746.00775418,   -2883.63931718])"
      ]
     },
     "execution_count": 84,
     "metadata": {},
     "output_type": "execute_result"
    }
   ],
   "source": [
    "ols.coef_"
   ]
  },
  {
   "cell_type": "code",
   "execution_count": 85,
   "id": "3a62e421",
   "metadata": {},
   "outputs": [
    {
     "data": {
      "text/html": [
       "<div>\n",
       "<style scoped>\n",
       "    .dataframe tbody tr th:only-of-type {\n",
       "        vertical-align: middle;\n",
       "    }\n",
       "\n",
       "    .dataframe tbody tr th {\n",
       "        vertical-align: top;\n",
       "    }\n",
       "\n",
       "    .dataframe thead th {\n",
       "        text-align: right;\n",
       "    }\n",
       "</style>\n",
       "<table border=\"1\" class=\"dataframe\">\n",
       "  <thead>\n",
       "    <tr style=\"text-align: right;\">\n",
       "      <th></th>\n",
       "      <th>Coefficients</th>\n",
       "    </tr>\n",
       "    <tr>\n",
       "      <th>Features</th>\n",
       "      <th></th>\n",
       "    </tr>\n",
       "  </thead>\n",
       "  <tbody>\n",
       "    <tr>\n",
       "      <th>year_built masonry_area</th>\n",
       "      <td>226117.317675</td>\n",
       "    </tr>\n",
       "    <tr>\n",
       "      <th>bathrooms year_built</th>\n",
       "      <td>199623.864882</td>\n",
       "    </tr>\n",
       "    <tr>\n",
       "      <th>fireplaces</th>\n",
       "      <td>171090.558259</td>\n",
       "    </tr>\n",
       "    <tr>\n",
       "      <th>garage_sqft year_built</th>\n",
       "      <td>149340.736091</td>\n",
       "    </tr>\n",
       "    <tr>\n",
       "      <th>house_quality_rating</th>\n",
       "      <td>122239.715071</td>\n",
       "    </tr>\n",
       "    <tr>\n",
       "      <th>garage_capacity</th>\n",
       "      <td>119539.416261</td>\n",
       "    </tr>\n",
       "    <tr>\n",
       "      <th>total_basement_sqft year_built</th>\n",
       "      <td>102891.757128</td>\n",
       "    </tr>\n",
       "    <tr>\n",
       "      <th>above_ground_living_area_sqft year_built</th>\n",
       "      <td>72428.606645</td>\n",
       "    </tr>\n",
       "    <tr>\n",
       "      <th>year_built^2</th>\n",
       "      <td>65503.774516</td>\n",
       "    </tr>\n",
       "    <tr>\n",
       "      <th>house_quality_rating total_basement_sqft</th>\n",
       "      <td>44077.355121</td>\n",
       "    </tr>\n",
       "  </tbody>\n",
       "</table>\n",
       "</div>"
      ],
      "text/plain": [
       "                                           Coefficients\n",
       "Features                                               \n",
       "year_built masonry_area                   226117.317675\n",
       "bathrooms year_built                      199623.864882\n",
       "fireplaces                                171090.558259\n",
       "garage_sqft year_built                    149340.736091\n",
       "house_quality_rating                      122239.715071\n",
       "garage_capacity                           119539.416261\n",
       "total_basement_sqft year_built            102891.757128\n",
       "above_ground_living_area_sqft year_built   72428.606645\n",
       "year_built^2                               65503.774516\n",
       "house_quality_rating total_basement_sqft   44077.355121"
      ]
     },
     "execution_count": 85,
     "metadata": {},
     "output_type": "execute_result"
    }
   ],
   "source": [
    "lr_coef_df = pd.DataFrame([ols.coef_, poly.get_feature_names(features)], index = ['Coefficients', 'Features']).T\n",
    "lr_coef_df = lr_coef_df.set_index('Features')\n",
    "\n",
    "lr_coef_df = lr_coef_df.sort_values(by='Coefficients',ascending=False)\n",
    "lr_coef_df.head(10)"
   ]
  },
  {
   "cell_type": "code",
   "execution_count": 86,
   "id": "cc1ad383",
   "metadata": {},
   "outputs": [
    {
     "data": {
      "text/plain": [
       "array([105686.01423355, 306271.67496749, 145235.59444409, ...,\n",
       "       135745.32126866, 108977.9717688 , 250883.0682619 ])"
      ]
     },
     "execution_count": 86,
     "metadata": {},
     "output_type": "execute_result"
    }
   ],
   "source": [
    "ols.predict(Z_train)"
   ]
  },
  {
   "cell_type": "code",
   "execution_count": 87,
   "id": "fb1e2d31",
   "metadata": {},
   "outputs": [
    {
     "data": {
      "text/plain": [
       "array([145399.31661526, 219399.19684243, 121350.13185469, 158296.56950521,\n",
       "       434421.43125615, 252941.86171344, 334469.03075851, 213994.82060421,\n",
       "       126864.14898131, 111377.71755138, 170192.03809896, 330768.64881992,\n",
       "       136021.4624694 , 182113.83296906, 243270.02411729, 160243.13514058,\n",
       "       140192.37548458, 146119.47267726, 143677.46638088, 218001.5854583 ,\n",
       "       125344.23825786, 145406.24521167, 119958.28734479, 339817.80724955,\n",
       "       156426.18823729, 179290.07692416, 256491.12936432, 124801.62576467,\n",
       "       140152.9016925 , 182307.20142204,  86471.28531643, 157685.31088601,\n",
       "       182250.43127073, 196866.2236827 , 499005.72892533, 131678.12673868,\n",
       "       131290.9811054 , 130571.61249857, 300688.76966708, 234052.37175793,\n",
       "       271341.62544761, 104388.28568535, 343707.54999017, 169851.69610001,\n",
       "       113287.31331972, 334458.6684632 , 103725.23332643, 201897.27904298,\n",
       "       150439.98676242, 164708.65968354, 246079.12679039, 153405.02761978,\n",
       "       163379.39701557, 165543.5433367 , 213758.81575973,  88286.77609675,\n",
       "       316787.82671021, 140795.38833687, 265723.82182694, 144407.7051568 ,\n",
       "       349727.86977416, 103844.93543369, 132327.72746391, 218853.54545207,\n",
       "       203954.1374566 , 139227.25837826, 218223.55096447, 178039.28438709,\n",
       "       192573.37776013, 107946.3879988 , 114164.24433212, 157509.52389405,\n",
       "       159587.01272628, 132656.524652  ,  95870.6975978 , 117957.07785705,\n",
       "        97543.75343846,  89122.52165829, 153120.15550421, 141093.58965135,\n",
       "       123022.72494957, 184549.40252936, 128699.20134719, 103419.08674337,\n",
       "       162396.60639389, 315905.19553979, 238581.17717089, 299631.7948184 ,\n",
       "       107194.89966658, 201428.2174934 , 152740.2768762 , 125780.60810252,\n",
       "       115557.28895238, 210320.14657216, 200645.82778017, 160860.05379831,\n",
       "        93497.44052154, 115570.84378537, 129184.15876156, 263817.51040914,\n",
       "       228036.60860674, 147467.17058029, 325845.09309077, 320710.15905433,\n",
       "       229324.49421245, 142376.8590555 , 104776.14732537, 185587.85454949,\n",
       "       149588.65614539, 139210.68979618, 239629.42845551, 178167.23093664,\n",
       "       252227.09734111, 177697.29995091, 102855.17066504, 173042.65393287,\n",
       "       148304.41942008, 206598.02691547, 190783.35952076, 337595.68611813,\n",
       "       255496.37681662, 107797.63539206, 181859.24671841, 347613.23052592,\n",
       "       325652.37319688,  93131.34185319, 401989.30242318, 169498.88243109,\n",
       "       226896.0618259 , 222370.89364829, 133964.05575858, 120552.6807079 ,\n",
       "       223756.118562  , 137049.95264002, 202383.36155888, 254064.35667652,\n",
       "       300346.85999615, 307042.4416192 , 118074.60692663, 124166.69560469,\n",
       "       356370.17460938, 160137.86039315, 144376.8399429 , 193937.74451436,\n",
       "        97605.10868966, 277541.80339734, 235281.28227651, 135314.00154899,\n",
       "       129885.58471527, 138777.6100275 , 183438.70569523, 232481.42559891,\n",
       "       203598.64066579, 112576.0606808 , 150598.91905582, 181581.65110598,\n",
       "       186637.72470604, 155108.88724691, 320166.9283357 ,  99227.24714919,\n",
       "       138633.53236377, 140827.26441853,  94778.11864702, 206460.74280373,\n",
       "       171135.11320121, 120362.25455979, 223048.90411322,  92551.45928815,\n",
       "       188082.51141095, 114711.35684623, 150369.3847023 , 105966.46608813,\n",
       "       107071.27338709, 176463.38016304, 133102.93379089, 110518.61153465,\n",
       "       109634.83346282, 103011.36302659, 254230.55867932, 125809.01533779,\n",
       "       138015.73002961, 107379.49945063, 188352.35585428, 139229.2174659 ,\n",
       "       131526.8203449 , 154807.13242069, 186027.0454613 , 182109.49358733,\n",
       "       114061.51492441,  43972.55676224, 274069.47191076, 175764.25479532,\n",
       "       118299.61388577, 117088.7062534 , 180044.01345114, 128100.410565  ,\n",
       "       153200.34598099, 207956.05972191,  94804.33151008, 101622.63995303,\n",
       "       113761.10463194, 159954.42113649, 215699.22807905, 109350.44957638,\n",
       "       166527.32705052, 143305.94098384, 329434.11310173, 213367.74986614,\n",
       "       202553.82998434, 157943.01161637, 204918.71503079, 263559.31453189,\n",
       "       174931.35511751, 426867.51667608, 208496.87475762, 269657.71976882,\n",
       "       218726.67485585, 218274.88032017, 229519.05309778, 282829.1124422 ,\n",
       "       130086.191125  , 179855.41069028, 186027.0454613 , 215477.59996318,\n",
       "       219725.32051606, 133322.12668337, 127497.45485536, 140849.10660207,\n",
       "       238014.64115827,  92072.88962769, 123243.13557253, 131687.51178377,\n",
       "       311564.21469902, 109457.47555491, 100161.75839674, 171538.55289883,\n",
       "       280584.36862169, 130442.41387514, 213589.58360543, 130063.87618992,\n",
       "       162943.2422815 , 209288.33659379, 188377.55427168, 147505.20190461,\n",
       "       112653.7468696 , 228877.20079947, 181088.34599847, 166011.49517326,\n",
       "       274299.57271953, 118899.4666527 ,  76836.08563703, 183146.10495181,\n",
       "       353351.38981475, 141825.28986263, 207730.17794933, 156293.00045817,\n",
       "        95586.16343804, 130709.19010375, 127080.82273359, 150516.45310775,\n",
       "       229230.30834983, 105374.17669698,  97045.73405265, 181850.47607303,\n",
       "       245315.67885651, 127453.38166474, 167948.56144173, 265959.34561457,\n",
       "       103214.2259524 , 200973.89857248, 200859.68750346, 127909.64182164,\n",
       "       223937.3526052 , 186170.78819219, 209152.96060759, 196660.54712997,\n",
       "       302139.28018271, 233786.77645856, 369353.99327143, 141882.31038429,\n",
       "       184941.96572007,  87183.17248218, 201795.39928784, 183571.38536698,\n",
       "       105285.7024887 , 203595.90798413, 143635.05822426, 103097.05749051,\n",
       "       224022.85208324, 186448.29043742, 119562.19980179, 197304.36081231,\n",
       "       316636.9690724 , 222169.61022811, 112605.82534153, 180666.58696073,\n",
       "       136594.22938623, 125074.3429032 , 227033.05533624, 174235.68993995,\n",
       "       199980.16713358, 179680.2214752 , 409337.06525481, 120242.38208771,\n",
       "       184549.40252936, 129514.53927326, 157794.73865163, 159595.46683145,\n",
       "       122390.28600389, 224758.54701427, 249011.25083614, 105526.61928664,\n",
       "       216535.83446221, 111382.72182876, 380724.17569896, 248132.65069315,\n",
       "       211000.6009619 , 116965.76731516, 213839.44621132, 112379.93508967,\n",
       "       168276.79538782, 138596.71875193, 194187.81007491, 125742.36763561,\n",
       "       105844.09268621, 353832.96403372, 534975.76433254, 145075.39472508,\n",
       "       169314.00298705, 223683.34612632, 143311.24306123, 246527.04521478,\n",
       "       195221.33181749, 219041.1085606 ,  95311.99840686, 184015.00129329,\n",
       "       283510.77942941, 128273.58511024, 307309.37435817,  99316.20694449,\n",
       "       104805.64326487,  80878.21511182, 220094.73092517, 104000.59412307,\n",
       "       155515.55937937, 107272.1271006 , 168286.97874193, 112480.38015511,\n",
       "       188817.39255438, 222592.94446758, 201919.67837087, 177830.2102594 ,\n",
       "       112069.98128872, 154147.13827362,  97864.42391301, 173422.80369278,\n",
       "       185346.19503306, 188431.67656036, 166392.34339471, 308455.57634646,\n",
       "       213225.59720566, 214627.74808784, 209037.87206161, 134759.99650733,\n",
       "       134323.63677958, 231637.79708965, 146887.74734811, 127262.17123976,\n",
       "       174042.9294329 , 143295.55890742, 107913.27695731, 224693.01168037,\n",
       "       179306.64687507, 188055.0626397 , 168493.61057768, 126900.09146018,\n",
       "       127728.61087854, 197597.63508117, 137359.61681043, 138625.69808277,\n",
       "       121253.1170933 ,  96317.2454987 , 186846.22671568, 155674.39992051,\n",
       "       277515.82036721, 106400.53334302, 194649.86427793, 270410.05473299,\n",
       "       204952.88418319, 164745.40704842, 126370.99969606, 142987.40496044,\n",
       "       145341.05449014, 186051.16266947, 201419.49462934, 177346.40603496,\n",
       "       224020.36619062, 455968.51161294, 126697.33406659, 159745.26279488,\n",
       "       160702.47670599, 197344.91272261, 232785.74940763, 103227.20256886,\n",
       "       224405.85902313, 307484.13439455, 221127.90672082, 101773.78087209,\n",
       "       268746.32000109, 142378.52280354, 120435.26890297, 200695.40648926,\n",
       "       225925.57294145, 498190.93583551, 214380.67318355, 207321.04945555,\n",
       "        86403.0140152 , 162960.29817127, 167252.92579703, 145058.56062919,\n",
       "        96450.74220418, 113840.39141265, 112515.29091025, 113883.97805619,\n",
       "       203269.349858  , 118926.41293095, 132218.75456769, 234584.05375825,\n",
       "       336174.24803032, 171440.18027805, 137432.13418414, 138940.98521646,\n",
       "       124704.45786125, 280936.25253133, 147054.99098008, 290253.33841165,\n",
       "       123370.87810522, 318266.668857  , 219868.94881137, 133559.23901881,\n",
       "       145427.40338844, 175266.84004785, 120819.64714859, 140822.42576339,\n",
       "       474896.92847273, 205472.43782106, 144797.95859558, 115743.82917115,\n",
       "       109771.74035243, 180944.02835523, 372951.20127251, 366623.00259016,\n",
       "       119268.76094859, 136525.71308889, 113871.45044725, 184232.00456939,\n",
       "        81870.28393753, 160947.59431701, 151729.69785422, 196812.00367617,\n",
       "       132459.30629667, 106063.77714661, 190218.65250002, 347725.67569023,\n",
       "       129860.81615407,  99644.46968599, 134376.02661212, 227374.66988512,\n",
       "       153981.30661863, 301673.94128454, 192531.43207656, 305775.77093625,\n",
       "       270707.03989546, 213646.11728811, 124300.37868923, 137763.4291684 ,\n",
       "       196367.75860561, 153937.53737336, 120910.66088661, 240332.30081036,\n",
       "       114096.64167443, 111420.18957807, 208074.55899876, 151439.94283719,\n",
       "       142449.51659009,  98663.90642966, 251542.17743819, 207598.89323597,\n",
       "       129184.68097446, 148413.2999985 , 148036.98630428, 133413.63581315,\n",
       "       125438.90786987, 230401.72593872, 351170.27917126, 139941.26167793,\n",
       "       214991.28595282, 137401.21065461, 112036.33458794, 113424.76262592,\n",
       "       166704.88120625, 144917.31505145, 225580.98720149, 376123.19579475,\n",
       "       239576.06473684, 121602.75049388,  95476.89264551, 252460.18610587,\n",
       "       125411.49714446, 173526.24842932, 159126.6868792 ])"
      ]
     },
     "execution_count": 87,
     "metadata": {},
     "output_type": "execute_result"
    }
   ],
   "source": [
    "ols.predict(Z_test)"
   ]
  },
  {
   "cell_type": "code",
   "execution_count": 88,
   "id": "f8cfc8d5",
   "metadata": {},
   "outputs": [],
   "source": [
    "y_scaler_preds=ols.predict(Z_train)\n",
    "y_scaler_preds_test=ols.predict(Z_test)"
   ]
  },
  {
   "cell_type": "code",
   "execution_count": 89,
   "id": "6268d271",
   "metadata": {
    "scrolled": true
   },
   "outputs": [
    {
     "data": {
      "text/plain": [
       "26661.953684419863"
      ]
     },
     "execution_count": 89,
     "metadata": {},
     "output_type": "execute_result"
    }
   ],
   "source": [
    "mean_squared_error(y_true=y_test, y_pred=y_scaler_preds_test, squared=False)"
   ]
  },
  {
   "cell_type": "markdown",
   "id": "15b38174",
   "metadata": {},
   "source": [
    "### RidgeCV Regression"
   ]
  },
  {
   "cell_type": "code",
   "execution_count": 90,
   "id": "e3691e5d",
   "metadata": {
    "scrolled": true
   },
   "outputs": [],
   "source": [
    "r_alphas = np.logspace(0, 2, 10)\n",
    "\n",
    "# Cross-validate over our list of ridge alphas.\n",
    "ridge_cv = RidgeCV(alphas=r_alphas, scoring='r2', cv=5)"
   ]
  },
  {
   "cell_type": "code",
   "execution_count": 91,
   "id": "f9ca7336",
   "metadata": {},
   "outputs": [
    {
     "data": {
      "text/plain": [
       "RidgeCV(alphas=array([  1.        ,   1.66810054,   2.7825594 ,   4.64158883,\n",
       "         7.74263683,  12.91549665,  21.5443469 ,  35.93813664,\n",
       "        59.94842503, 100.        ]),\n",
       "        cv=5, scoring='r2')"
      ]
     },
     "execution_count": 91,
     "metadata": {},
     "output_type": "execute_result"
    }
   ],
   "source": [
    "# Fit model using best ridge alpha!\n",
    "ridge_cv.fit(Z_train, y_train)"
   ]
  },
  {
   "cell_type": "code",
   "execution_count": 92,
   "id": "5d24952f",
   "metadata": {},
   "outputs": [
    {
     "data": {
      "text/plain": [
       "12.91549665014884"
      ]
     },
     "execution_count": 92,
     "metadata": {},
     "output_type": "execute_result"
    }
   ],
   "source": [
    "ridge_cv.alpha_"
   ]
  },
  {
   "cell_type": "code",
   "execution_count": 93,
   "id": "27e570aa",
   "metadata": {
    "scrolled": true
   },
   "outputs": [
    {
     "name": "stdout",
     "output_type": "stream",
     "text": [
      "===== Ridge ======\n",
      "0.8979340861503027\n",
      "0.8875055457288323\n"
     ]
    }
   ],
   "source": [
    "print(\" Ridge \".center(18, \"=\"))\n",
    "print(ridge_cv.score(Z_train, y_train))\n",
    "print(ridge_cv.score(Z_test, y_test))"
   ]
  },
  {
   "cell_type": "code",
   "execution_count": 94,
   "id": "e642b2b6",
   "metadata": {},
   "outputs": [
    {
     "data": {
      "text/plain": [
       "(65,)"
      ]
     },
     "execution_count": 94,
     "metadata": {},
     "output_type": "execute_result"
    }
   ],
   "source": [
    "np.shape(ridge_cv.coef_)"
   ]
  },
  {
   "cell_type": "code",
   "execution_count": 95,
   "id": "63c49598",
   "metadata": {},
   "outputs": [],
   "source": [
    "ridge_cv_coef_df = pd.DataFrame({\n",
    "    'column' : poly.get_feature_names(features),\n",
    "    'coef'   : ridge_cv.coef_\n",
    "})"
   ]
  },
  {
   "cell_type": "code",
   "execution_count": 96,
   "id": "c7b1e501",
   "metadata": {},
   "outputs": [
    {
     "data": {
      "text/html": [
       "<div>\n",
       "<style scoped>\n",
       "    .dataframe tbody tr th:only-of-type {\n",
       "        vertical-align: middle;\n",
       "    }\n",
       "\n",
       "    .dataframe tbody tr th {\n",
       "        vertical-align: top;\n",
       "    }\n",
       "\n",
       "    .dataframe thead th {\n",
       "        text-align: right;\n",
       "    }\n",
       "</style>\n",
       "<table border=\"1\" class=\"dataframe\">\n",
       "  <thead>\n",
       "    <tr style=\"text-align: right;\">\n",
       "      <th></th>\n",
       "      <th>Coefficients</th>\n",
       "    </tr>\n",
       "    <tr>\n",
       "      <th>Features</th>\n",
       "      <th></th>\n",
       "    </tr>\n",
       "  </thead>\n",
       "  <tbody>\n",
       "    <tr>\n",
       "      <th>house_quality_rating total_basement_sqft</th>\n",
       "      <td>23350.514541</td>\n",
       "    </tr>\n",
       "    <tr>\n",
       "      <th>house_quality_rating above_ground_living_area_sqft</th>\n",
       "      <td>18276.418156</td>\n",
       "    </tr>\n",
       "    <tr>\n",
       "      <th>house_quality_rating total_rooms(non-bath)</th>\n",
       "      <td>12916.4779</td>\n",
       "    </tr>\n",
       "    <tr>\n",
       "      <th>total_rooms(non-bath) masonry_area</th>\n",
       "      <td>11619.405226</td>\n",
       "    </tr>\n",
       "    <tr>\n",
       "      <th>bathrooms total_basement_sqft</th>\n",
       "      <td>11442.529346</td>\n",
       "    </tr>\n",
       "    <tr>\n",
       "      <th>bathrooms masonry_area</th>\n",
       "      <td>11326.012396</td>\n",
       "    </tr>\n",
       "    <tr>\n",
       "      <th>house_quality_rating fireplaces</th>\n",
       "      <td>9348.91372</td>\n",
       "    </tr>\n",
       "    <tr>\n",
       "      <th>house_quality_rating garage_sqft</th>\n",
       "      <td>9147.41747</td>\n",
       "    </tr>\n",
       "    <tr>\n",
       "      <th>above_ground_living_area_sqft bathrooms</th>\n",
       "      <td>9103.721855</td>\n",
       "    </tr>\n",
       "    <tr>\n",
       "      <th>above_ground_living_area_sqft fireplaces</th>\n",
       "      <td>8670.317532</td>\n",
       "    </tr>\n",
       "  </tbody>\n",
       "</table>\n",
       "</div>"
      ],
      "text/plain": [
       "                                                    Coefficients\n",
       "Features                                                        \n",
       "house_quality_rating total_basement_sqft            23350.514541\n",
       "house_quality_rating above_ground_living_area_sqft  18276.418156\n",
       "house_quality_rating total_rooms(non-bath)            12916.4779\n",
       "total_rooms(non-bath) masonry_area                  11619.405226\n",
       "bathrooms total_basement_sqft                       11442.529346\n",
       "bathrooms masonry_area                              11326.012396\n",
       "house_quality_rating fireplaces                       9348.91372\n",
       "house_quality_rating garage_sqft                      9147.41747\n",
       "above_ground_living_area_sqft bathrooms              9103.721855\n",
       "above_ground_living_area_sqft fireplaces             8670.317532"
      ]
     },
     "execution_count": 96,
     "metadata": {},
     "output_type": "execute_result"
    }
   ],
   "source": [
    "ridge_cv_coef_df = pd.DataFrame([ridge_cv.coef_, poly.get_feature_names(features)], index = ['Coefficients', 'Features']).T\n",
    "ridge_cv_coef_df = ridge_cv_coef_df.set_index('Features')\n",
    "\n",
    "ridge_cv_coef_df = ridge_cv_coef_df.sort_values(by='Coefficients',ascending=False)\n",
    "ridge_cv_coef_df.head(10)"
   ]
  },
  {
   "cell_type": "code",
   "execution_count": 97,
   "id": "f6f8df5c",
   "metadata": {},
   "outputs": [],
   "source": [
    "ridgecv_preds=ridge_cv.predict(Z_train)\n",
    "ridgecv_preds_test=ridge_cv.predict(Z_test)"
   ]
  },
  {
   "cell_type": "code",
   "execution_count": 98,
   "id": "c7ada947",
   "metadata": {
    "scrolled": true
   },
   "outputs": [
    {
     "data": {
      "text/plain": [
       "26156.404791528366"
      ]
     },
     "execution_count": 98,
     "metadata": {},
     "output_type": "execute_result"
    }
   ],
   "source": [
    "mean_squared_error(y_true=y_test, y_pred=ridgecv_preds_test, squared=False)#RMSE of Ridge Model"
   ]
  },
  {
   "cell_type": "markdown",
   "id": "d4d4de7c",
   "metadata": {},
   "source": [
    "### LassoCV Regression"
   ]
  },
  {
   "cell_type": "code",
   "execution_count": 99,
   "id": "155f4009",
   "metadata": {
    "scrolled": false
   },
   "outputs": [
    {
     "name": "stderr",
     "output_type": "stream",
     "text": [
      "/Users/yash/opt/anaconda3/lib/python3.8/site-packages/sklearn/linear_model/_coordinate_descent.py:530: ConvergenceWarning: Objective did not converge. You might want to increase the number of iterations. Duality gap: 15426827501.591919, tolerance: 974561673.5703186\n",
      "  model = cd_fast.enet_coordinate_descent(\n"
     ]
    }
   ],
   "source": [
    "lasso_cv = LassoCV(n_alphas=100, cv=5)\n",
    "\n",
    "# Fit model using best lasso alpha!\n",
    "lasso_cv.fit(Z_train, y_train);"
   ]
  },
  {
   "cell_type": "code",
   "execution_count": 100,
   "id": "625e148a",
   "metadata": {
    "scrolled": true
   },
   "outputs": [
    {
     "data": {
      "text/plain": [
       "140.36889650751422"
      ]
     },
     "execution_count": 100,
     "metadata": {},
     "output_type": "execute_result"
    }
   ],
   "source": [
    "lasso_cv.alpha_"
   ]
  },
  {
   "cell_type": "code",
   "execution_count": 101,
   "id": "7c327a2a",
   "metadata": {
    "scrolled": true
   },
   "outputs": [
    {
     "name": "stdout",
     "output_type": "stream",
     "text": [
      "===== LASSO ======\n",
      "0.8950705701400375\n",
      "0.8879099532960163\n"
     ]
    }
   ],
   "source": [
    "print(\" LASSO \".center(18, \"=\"))\n",
    "print(lasso_cv.score(Z_train, y_train))\n",
    "print(lasso_cv.score(Z_test, y_test))"
   ]
  },
  {
   "cell_type": "code",
   "execution_count": 102,
   "id": "64f9000a",
   "metadata": {
    "scrolled": true
   },
   "outputs": [],
   "source": [
    "test_subset = test_data_sc\n",
    "kaggle_preds_lasso = lasso_cv.predict(test_subset)"
   ]
  },
  {
   "cell_type": "code",
   "execution_count": 103,
   "id": "d0d0c6e9",
   "metadata": {},
   "outputs": [],
   "source": [
    "kaggle_df_lasso = pd.DataFrame({\n",
    "    'Id': test_data['id'],\n",
    "    'SalePrice': kaggle_preds_lasso\n",
    "})"
   ]
  },
  {
   "cell_type": "code",
   "execution_count": 104,
   "id": "484db18a",
   "metadata": {},
   "outputs": [],
   "source": [
    "kaggle_df_lasso.to_csv('submissions/lasso.csv', index=False)"
   ]
  },
  {
   "cell_type": "code",
   "execution_count": 105,
   "id": "e59be6c5",
   "metadata": {},
   "outputs": [],
   "source": [
    "lasso_preds=lasso_cv.predict(Z_train)\n",
    "lasso_preds_test=lasso_cv.predict(Z_test)"
   ]
  },
  {
   "cell_type": "code",
   "execution_count": 106,
   "id": "06cec17e",
   "metadata": {},
   "outputs": [
    {
     "data": {
      "text/plain": [
       "(65,)"
      ]
     },
     "execution_count": 106,
     "metadata": {},
     "output_type": "execute_result"
    }
   ],
   "source": [
    "np.shape(lasso_cv.coef_)"
   ]
  },
  {
   "cell_type": "code",
   "execution_count": 107,
   "id": "f4b699ec",
   "metadata": {},
   "outputs": [
    {
     "data": {
      "text/html": [
       "<div>\n",
       "<style scoped>\n",
       "    .dataframe tbody tr th:only-of-type {\n",
       "        vertical-align: middle;\n",
       "    }\n",
       "\n",
       "    .dataframe tbody tr th {\n",
       "        vertical-align: top;\n",
       "    }\n",
       "\n",
       "    .dataframe thead th {\n",
       "        text-align: right;\n",
       "    }\n",
       "</style>\n",
       "<table border=\"1\" class=\"dataframe\">\n",
       "  <thead>\n",
       "    <tr style=\"text-align: right;\">\n",
       "      <th></th>\n",
       "      <th>Coefficients</th>\n",
       "    </tr>\n",
       "    <tr>\n",
       "      <th>Features</th>\n",
       "      <th></th>\n",
       "    </tr>\n",
       "  </thead>\n",
       "  <tbody>\n",
       "    <tr>\n",
       "      <th>house_quality_rating above_ground_living_area_sqft</th>\n",
       "      <td>32561.687357</td>\n",
       "    </tr>\n",
       "    <tr>\n",
       "      <th>house_quality_rating total_basement_sqft</th>\n",
       "      <td>30773.59154</td>\n",
       "    </tr>\n",
       "    <tr>\n",
       "      <th>bathrooms masonry_area</th>\n",
       "      <td>11047.788636</td>\n",
       "    </tr>\n",
       "    <tr>\n",
       "      <th>bathrooms total_basement_sqft</th>\n",
       "      <td>8105.145652</td>\n",
       "    </tr>\n",
       "    <tr>\n",
       "      <th>house_quality_rating garage_sqft</th>\n",
       "      <td>7946.876334</td>\n",
       "    </tr>\n",
       "    <tr>\n",
       "      <th>total_basement_sqft masonry_area</th>\n",
       "      <td>6796.670265</td>\n",
       "    </tr>\n",
       "    <tr>\n",
       "      <th>garage_capacity masonry_area</th>\n",
       "      <td>5719.290818</td>\n",
       "    </tr>\n",
       "    <tr>\n",
       "      <th>year_built</th>\n",
       "      <td>5258.738626</td>\n",
       "    </tr>\n",
       "    <tr>\n",
       "      <th>house_quality_rating fireplaces</th>\n",
       "      <td>5242.704467</td>\n",
       "    </tr>\n",
       "    <tr>\n",
       "      <th>above_ground_living_area_sqft bathrooms</th>\n",
       "      <td>3987.829303</td>\n",
       "    </tr>\n",
       "  </tbody>\n",
       "</table>\n",
       "</div>"
      ],
      "text/plain": [
       "                                                    Coefficients\n",
       "Features                                                        \n",
       "house_quality_rating above_ground_living_area_sqft  32561.687357\n",
       "house_quality_rating total_basement_sqft             30773.59154\n",
       "bathrooms masonry_area                              11047.788636\n",
       "bathrooms total_basement_sqft                        8105.145652\n",
       "house_quality_rating garage_sqft                     7946.876334\n",
       "total_basement_sqft masonry_area                     6796.670265\n",
       "garage_capacity masonry_area                         5719.290818\n",
       "year_built                                           5258.738626\n",
       "house_quality_rating fireplaces                      5242.704467\n",
       "above_ground_living_area_sqft bathrooms              3987.829303"
      ]
     },
     "execution_count": 107,
     "metadata": {},
     "output_type": "execute_result"
    }
   ],
   "source": [
    "coef_df = pd.DataFrame([lasso_cv.coef_, poly.get_feature_names(features)], index = ['Coefficients', 'Features']).T\n",
    "coef_df = coef_df.set_index('Features')\n",
    "\n",
    "coef_df = coef_df.sort_values(by='Coefficients',ascending=False)\n",
    "coef_df.head(10)"
   ]
  },
  {
   "cell_type": "code",
   "execution_count": 108,
   "id": "ba311d0e",
   "metadata": {},
   "outputs": [
    {
     "data": {
      "image/png": "[encoded data removed]",
      "text/plain": [
       "<Figure size 432x288 with 1 Axes>"
      ]
     },
     "metadata": {
      "needs_background": "light"
     },
     "output_type": "display_data"
    },
    {
     "data": {
      "image/png": "[encoded data removed]",
      "text/plain": [
       "<Figure size 1080x504 with 1 Axes>"
      ]
     },
     "metadata": {
      "needs_background": "light"
     },
     "output_type": "display_data"
    }
   ],
   "source": [
    "plt.barh(y=coef_df.index[:10], width=coef_df['Coefficients'][0:10]);\n",
    "plt.title('Major Contributing Features')\n",
    "plt.xlabel('Strenth of Predictor')\n",
    "\n",
    "plt.figure(figsize=(15,7))\n",
    "\n",
    "plt.scatter(y_test, lasso_preds_test, color='b');\n",
    "plt.title('Lasso Prediction Residuals', fontsize=20)\n",
    "plt.xlabel('Test Target Values, USD', fontsize=16)\n",
    "plt.ylabel('Predicted Values, USD', fontsize=16)\n",
    "plt.show()"
   ]
  },
  {
   "cell_type": "code",
   "execution_count": 109,
   "id": "bee369b8",
   "metadata": {},
   "outputs": [
    {
     "data": {
      "text/plain": [
       "26109.347486220548"
      ]
     },
     "execution_count": 109,
     "metadata": {},
     "output_type": "execute_result"
    }
   ],
   "source": [
    "mean_squared_error(y_true=y_test, y_pred=lasso_preds_test,squared=False) #RMSE of lasso CV Model"
   ]
  },
  {
   "cell_type": "code",
   "execution_count": 110,
   "id": "25155f3b",
   "metadata": {},
   "outputs": [
    {
     "data": {
      "text/plain": [
       "0.5230769230769231"
      ]
     },
     "execution_count": 110,
     "metadata": {},
     "output_type": "execute_result"
    }
   ],
   "source": [
    "len(coef_df[coef_df['Coefficients'] == 0]) / len(coef_df['Coefficients'])"
   ]
  },
  {
   "cell_type": "markdown",
   "id": "0b74a6d8",
   "metadata": {},
   "source": [
    "## Model Evauation"
   ]
  },
  {
   "cell_type": "markdown",
   "id": "6c4d5d29",
   "metadata": {},
   "source": [
    "|        Model       \t| Train Score \t| Test Score \t|   RMSE  \t|\n",
    "|:------------------:\t|:-----------:\t|:----------:\t|:-------:\t|\n",
    "| \tLinear Regression \t|     0.90    \t|    0.88    \t|  26661 \t|\n",
    "|        RidgeCV      \t|     0.89    \t|    0.88    \t|  26156    |\n",
    "|      LassoCV      \t|     0.89    \t|    0.88    \t|  26109  \t|"
   ]
  }
 ],
 "metadata": {
  "kernelspec": {
   "display_name": "Python 3",
   "language": "python",
   "name": "python3"
  },
  "language_info": {
   "codemirror_mode": {
    "name": "ipython",
    "version": 3
   },
   "file_extension": ".py",
   "mimetype": "text/x-python",
   "name": "python",
   "nbconvert_exporter": "python",
   "pygments_lexer": "ipython3",
   "version": "3.8.8"
  }
 },
 "nbformat": 4,
 "nbformat_minor": 5
}
